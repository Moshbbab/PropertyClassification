{
 "cells": [
  {
   "cell_type": "code",
   "execution_count": 1,
   "metadata": {
    "scrolled": false
   },
   "outputs": [
    {
     "name": "stdout",
     "output_type": "stream",
     "text": [
      "INPUT the RUN NAME: Options : (\"A new run name\" or \"Any Previous Run Name\"\n",
      " WHICH_RUN = new_test\n",
      "INPUT: Image-type OPTIONS: (assessor, assessor_code, aerial, overlayed, aerial_cropped, streetside and ensemble \n",
      " IMAGE_TYPE = aerial_cropped\n"
     ]
    }
   ],
   "source": [
    "from __future__ import division, print_function, absolute_import\n",
    "import logging\n",
    "import time\n",
    "import tensorflow as tf\n",
    "import os\n",
    "tf.logging.set_verbosity(tf.logging.ERROR)\n",
    "import numpy as np\n",
    "from config import pathDict\n",
    "from conv_net.train import Train\n",
    "from conv_net.test import Test\n",
    "from data_transformation.data_prep import get_intersecting_images_pin, DumpBatches\n",
    "from plot import Plot\n",
    "import pandas as pd\n",
    "import seaborn as sns\n",
    "%matplotlib inline\n",
    "sns.set_style(\"whitegrid\")\n",
    "\n",
    "\n",
    "which_net = 'resnet'\n",
    "batch_prepare = True\n",
    "train = True\n",
    "test = True"
   ]
  },
  {
   "cell_type": "code",
   "execution_count": 2,
   "metadata": {
    "collapsed": true
   },
   "outputs": [],
   "source": [
    "# from clean_directories import clean\n",
    "# clean(dict(overlayed='summary,batch'),which_vendor='google', which_model='resnet')"
   ]
  },
  {
   "cell_type": "markdown",
   "metadata": {},
   "source": [
    "## PREPARE/DUMP BATCHES:"
   ]
  },
  {
   "cell_type": "code",
   "execution_count": 2,
   "metadata": {},
   "outputs": [
    {
     "name": "stdout",
     "output_type": "stream",
     "text": [
      "956 956\n",
      "1912 1912 1912 1912 1912=== 13\n",
      "--------------- 94.71021866798401 seconds ------------------\n"
     ]
    }
   ],
   "source": [
    "start_time = time.time()\n",
    "\n",
    "max_batches = None\n",
    "\n",
    "if batch_prepare:\n",
    "    start_time = time.time()\n",
    "    \n",
    "    cmn_land_pins, cmn_house_pins = get_intersecting_images_pin(is_assessor=False, is_aerial=False,\n",
    "                                                                is_streetside=False, is_overlayed=False,\n",
    "                                                                is_aerial_cropped=True, equal_proportion=True)\n",
    "    print(len(cmn_land_pins), len(cmn_house_pins))\n",
    "    \n",
    "    tr_batch_size = 128\n",
    "    ts_batch_size = (len(cmn_land_pins) + len(cmn_house_pins)) // 10\n",
    "    cv_batch_size = (len(cmn_land_pins) + len(cmn_house_pins)) // 10\n",
    "    \n",
    "    params = dict(\n",
    "            image_type='aerial_cropped',\n",
    "            img_in_shape=[400, 400, 3],\n",
    "            img_out_shape=[224, 224, 3],\n",
    "            img_resize_shape=[128, 128, 3],\n",
    "            img_crop_shape=[128, 128, 3],\n",
    "            tr_batch_size = tr_batch_size,\n",
    "            cv_batch_size = cv_batch_size,\n",
    "            ts_batch_size = ts_batch_size,\n",
    "            enable_rotation=True,\n",
    "            shuffle_seed=881,\n",
    "            get_stats=True,\n",
    "            max_batches=max_batches)\n",
    "    \n",
    "    obj_cb = DumpBatches(params)\n",
    "    obj_cb.dumpStratifiedBatches_balanced_class(cmn_land_pins, cmn_house_pins, is_cvalid_test=False)\n",
    "\n",
    "print ('--------------- %s seconds ------------------'%(time.time() - start_time))\n"
   ]
  },
  {
   "cell_type": "markdown",
   "metadata": {},
   "source": [
    "## TEST MODEL:"
   ]
  },
  {
   "cell_type": "code",
   "execution_count": 2,
   "metadata": {},
   "outputs": [
    {
     "name": "stdout",
     "output_type": "stream",
     "text": [
      "Test Graphs: RESNET\n",
      "Learning Rate: Initial:  0.0005\n",
      "Batch path C:\\Users\\newline\\Documents\\ImageClassification\\data\\batch_data\\new_test\\aerial_cropped, batch_names: ['batch_0', 'batch_1', 'batch_10', 'batch_11', 'batch_12', 'batch_13', 'batch_2', 'batch_3', 'batch_4', 'batch_5', 'batch_6', 'batch_7', 'batch_8', 'batch_9']\n",
      "Test Graphs: RESNET\n",
      "Learning Rate: Initial:  0.0005\n",
      "Batch path C:\\Users\\newline\\Documents\\ImageClassification\\data\\batch_data\\new_test\\aerial_cropped, batch_names: ['batch_0', 'batch_1', 'batch_10', 'batch_11', 'batch_12', 'batch_13', 'batch_2', 'batch_3', 'batch_4', 'batch_5', 'batch_6', 'batch_7', 'batch_8', 'batch_9']\n",
      "Test Graphs: RESNET\n",
      "Learning Rate: Initial:  0.0005\n",
      "Batch path C:\\Users\\newline\\Documents\\ImageClassification\\data\\batch_data\\new_test\\aerial_cropped, batch_names: ['batch_0', 'batch_1', 'batch_10', 'batch_11', 'batch_12', 'batch_13', 'batch_2', 'batch_3', 'batch_4', 'batch_5', 'batch_6', 'batch_7', 'batch_8', 'batch_9']\n",
      "Test Graphs: RESNET\n",
      "Learning Rate: Initial:  0.0005\n",
      "Batch path C:\\Users\\newline\\Documents\\ImageClassification\\data\\batch_data\\new_test\\aerial_cropped, batch_names: ['batch_0', 'batch_1', 'batch_10', 'batch_11', 'batch_12', 'batch_13', 'batch_2', 'batch_3', 'batch_4', 'batch_5', 'batch_6', 'batch_7', 'batch_8', 'batch_9']\n",
      "Test Graphs: RESNET\n",
      "Learning Rate: Initial:  0.0005\n",
      "Batch path C:\\Users\\newline\\Documents\\ImageClassification\\data\\batch_data\\new_test\\aerial_cropped, batch_names: ['batch_0', 'batch_1', 'batch_10', 'batch_11', 'batch_12', 'batch_13', 'batch_2', 'batch_3', 'batch_4', 'batch_5', 'batch_6', 'batch_7', 'batch_8', 'batch_9']\n",
      "Test Graphs: RESNET\n",
      "Learning Rate: Initial:  0.0005\n",
      "Batch path C:\\Users\\newline\\Documents\\ImageClassification\\data\\batch_data\\new_test\\aerial_cropped, batch_names: ['batch_0', 'batch_1', 'batch_10', 'batch_11', 'batch_12', 'batch_13', 'batch_2', 'batch_3', 'batch_4', 'batch_5', 'batch_6', 'batch_7', 'batch_8', 'batch_9']\n",
      "Test Graphs: RESNET\n",
      "Learning Rate: Initial:  0.0005\n",
      "Batch path C:\\Users\\newline\\Documents\\ImageClassification\\data\\batch_data\\new_test\\aerial_cropped, batch_names: ['batch_0', 'batch_1', 'batch_10', 'batch_11', 'batch_12', 'batch_13', 'batch_2', 'batch_3', 'batch_4', 'batch_5', 'batch_6', 'batch_7', 'batch_8', 'batch_9']\n",
      "Test Graphs: RESNET\n",
      "Learning Rate: Initial:  0.0005\n",
      "Batch path C:\\Users\\newline\\Documents\\ImageClassification\\data\\batch_data\\new_test\\aerial_cropped, batch_names: ['batch_0', 'batch_1', 'batch_10', 'batch_11', 'batch_12', 'batch_13', 'batch_2', 'batch_3', 'batch_4', 'batch_5', 'batch_6', 'batch_7', 'batch_8', 'batch_9']\n",
      "Test Graphs: RESNET\n",
      "Learning Rate: Initial:  0.0005\n",
      "Batch path C:\\Users\\newline\\Documents\\ImageClassification\\data\\batch_data\\new_test\\aerial_cropped, batch_names: ['batch_0', 'batch_1', 'batch_10', 'batch_11', 'batch_12', 'batch_13', 'batch_2', 'batch_3', 'batch_4', 'batch_5', 'batch_6', 'batch_7', 'batch_8', 'batch_9']\n"
     ]
    }
   ],
   "source": [
    "which_data = 'test'\n",
    "tsoj = Test(params=dict(pprocessor_inp_img_shape=[224,224,3],\n",
    "                        pprocessor_inp_crop_shape=[],\n",
    "                        model_inp_img_shape=[224, 224, 3]),\n",
    "                    device_type = 'gpu',\n",
    "                    which_net='resnet')\n",
    "fnl_tst_metric_stack = tsoj.run(use_checkpoint_for_run='sam_new',\n",
    "                                use_checkpoint_for_imageType='aerial_cropped',\n",
    "                                optional_batch_name=None,\n",
    "                                which_checkpoint='all',\n",
    "                                which_data=which_data,\n",
    "                                dump_stats=True)"
   ]
  },
  {
   "cell_type": "code",
   "execution_count": 5,
   "metadata": {},
   "outputs": [
    {
     "data": {
      "text/html": [
       "<div>\n",
       "<style scoped>\n",
       "    .dataframe tbody tr th:only-of-type {\n",
       "        vertical-align: middle;\n",
       "    }\n",
       "\n",
       "    .dataframe tbody tr th {\n",
       "        vertical-align: top;\n",
       "    }\n",
       "\n",
       "    .dataframe thead th {\n",
       "        text-align: right;\n",
       "    }\n",
       "</style>\n",
       "<table border=\"1\" class=\"dataframe\">\n",
       "  <thead>\n",
       "    <tr style=\"text-align: right;\">\n",
       "      <th></th>\n",
       "      <th>checkpoint</th>\n",
       "      <th>dataset_type</th>\n",
       "      <th>test_loss</th>\n",
       "      <th>test_acc</th>\n",
       "      <th>test_precsion</th>\n",
       "      <th>test_recall</th>\n",
       "    </tr>\n",
       "  </thead>\n",
       "  <tbody>\n",
       "    <tr>\n",
       "      <th>0</th>\n",
       "      <td>epoch_7_batch_89</td>\n",
       "      <td>batch_0</td>\n",
       "      <td>0.209</td>\n",
       "      <td>0.922</td>\n",
       "      <td>0.886</td>\n",
       "      <td>0.969</td>\n",
       "    </tr>\n",
       "    <tr>\n",
       "      <th>1</th>\n",
       "      <td>epoch_7_batch_89</td>\n",
       "      <td>batch_1</td>\n",
       "      <td>0.169</td>\n",
       "      <td>0.922</td>\n",
       "      <td>0.897</td>\n",
       "      <td>0.953</td>\n",
       "    </tr>\n",
       "    <tr>\n",
       "      <th>2</th>\n",
       "      <td>epoch_7_batch_89</td>\n",
       "      <td>batch_10</td>\n",
       "      <td>0.165</td>\n",
       "      <td>0.922</td>\n",
       "      <td>0.897</td>\n",
       "      <td>0.953</td>\n",
       "    </tr>\n",
       "    <tr>\n",
       "      <th>3</th>\n",
       "      <td>epoch_7_batch_89</td>\n",
       "      <td>batch_11</td>\n",
       "      <td>0.261</td>\n",
       "      <td>0.898</td>\n",
       "      <td>0.849</td>\n",
       "      <td>0.969</td>\n",
       "    </tr>\n",
       "    <tr>\n",
       "      <th>4</th>\n",
       "      <td>epoch_7_batch_89</td>\n",
       "      <td>batch_12</td>\n",
       "      <td>0.289</td>\n",
       "      <td>0.883</td>\n",
       "      <td>0.866</td>\n",
       "      <td>0.906</td>\n",
       "    </tr>\n",
       "    <tr>\n",
       "      <th>121</th>\n",
       "      <td>epoch_30_batch_9</td>\n",
       "      <td>batch_5</td>\n",
       "      <td>0.146</td>\n",
       "      <td>0.953</td>\n",
       "      <td>0.953</td>\n",
       "      <td>0.953</td>\n",
       "    </tr>\n",
       "    <tr>\n",
       "      <th>122</th>\n",
       "      <td>epoch_30_batch_9</td>\n",
       "      <td>batch_6</td>\n",
       "      <td>0.121</td>\n",
       "      <td>0.953</td>\n",
       "      <td>0.939</td>\n",
       "      <td>0.969</td>\n",
       "    </tr>\n",
       "    <tr>\n",
       "      <th>123</th>\n",
       "      <td>epoch_30_batch_9</td>\n",
       "      <td>batch_7</td>\n",
       "      <td>0.131</td>\n",
       "      <td>0.953</td>\n",
       "      <td>0.939</td>\n",
       "      <td>0.969</td>\n",
       "    </tr>\n",
       "    <tr>\n",
       "      <th>124</th>\n",
       "      <td>epoch_30_batch_9</td>\n",
       "      <td>batch_8</td>\n",
       "      <td>0.105</td>\n",
       "      <td>0.969</td>\n",
       "      <td>0.955</td>\n",
       "      <td>0.984</td>\n",
       "    </tr>\n",
       "    <tr>\n",
       "      <th>125</th>\n",
       "      <td>epoch_30_batch_9</td>\n",
       "      <td>batch_9</td>\n",
       "      <td>0.128</td>\n",
       "      <td>0.945</td>\n",
       "      <td>0.913</td>\n",
       "      <td>0.984</td>\n",
       "    </tr>\n",
       "  </tbody>\n",
       "</table>\n",
       "</div>"
      ],
      "text/plain": [
       "           checkpoint dataset_type  test_loss  test_acc  test_precsion  \\\n",
       "0    epoch_7_batch_89      batch_0      0.209     0.922          0.886   \n",
       "1    epoch_7_batch_89      batch_1      0.169     0.922          0.897   \n",
       "2    epoch_7_batch_89     batch_10      0.165     0.922          0.897   \n",
       "3    epoch_7_batch_89     batch_11      0.261     0.898          0.849   \n",
       "4    epoch_7_batch_89     batch_12      0.289     0.883          0.866   \n",
       "121  epoch_30_batch_9      batch_5      0.146     0.953          0.953   \n",
       "122  epoch_30_batch_9      batch_6      0.121     0.953          0.939   \n",
       "123  epoch_30_batch_9      batch_7      0.131     0.953          0.939   \n",
       "124  epoch_30_batch_9      batch_8      0.105     0.969          0.955   \n",
       "125  epoch_30_batch_9      batch_9      0.128     0.945          0.913   \n",
       "\n",
       "     test_recall  \n",
       "0          0.969  \n",
       "1          0.953  \n",
       "2          0.953  \n",
       "3          0.969  \n",
       "4          0.906  \n",
       "121        0.953  \n",
       "122        0.969  \n",
       "123        0.969  \n",
       "124        0.984  \n",
       "125        0.984  "
      ]
     },
     "execution_count": 5,
     "metadata": {},
     "output_type": "execute_result"
    }
   ],
   "source": [
    "prediction_outcomes_path = os.path.join(pathDict['statistics_path'], 'prediction_stats', 'test_pred_outcomes.csv')\n",
    "prediction_metrics_path = os.path.join(pathDict['statistics_path'], 'prediction_stats', 'test_pred_metrics.csv')\n",
    "prediction_outcomes = pd.read_csv(prediction_outcomes_path)\n",
    "prediction_metrics = pd.read_csv(prediction_metrics_path)\n",
    "pd.concat([prediction_metrics.head(), prediction_metrics.tail()])"
   ]
  },
  {
   "cell_type": "code",
   "execution_count": 6,
   "metadata": {},
   "outputs": [
    {
     "data": {
      "text/plain": [
       "array(['epoch_29_batch_109', 'epoch_29_batch_116', 'epoch_29_batch_89',\n",
       "       'epoch_29_batch_99', 'epoch_30_batch_9', 'epoch_7_batch_109',\n",
       "       'epoch_7_batch_116', 'epoch_7_batch_89', 'epoch_7_batch_99'], dtype=object)"
      ]
     },
     "execution_count": 6,
     "metadata": {},
     "output_type": "execute_result"
    }
   ],
   "source": [
    "np.unique(prediction_metrics[\"checkpoint\"])"
   ]
  },
  {
   "cell_type": "code",
   "execution_count": 7,
   "metadata": {},
   "outputs": [
    {
     "name": "stdout",
     "output_type": "stream",
     "text": [
      "0.944037656904 0.924075924076 0.967573221757 0.944037656904\n"
     ]
    }
   ],
   "source": [
    "from conv_net.utils import Score\n",
    "predictions = prediction_outcomes[prediction_outcomes['checkpoint'] == 'epoch_30_batch_9']\n",
    "\n",
    "accuracy = Score().accuracy(y_true=predictions[\"true_label\"], y_pred=predictions[\"pred_label\"])\n",
    "\n",
    "precision = Score().precision(y_true=predictions[\"true_label\"], y_pred=predictions[\"pred_label\"], reverse=True)\n",
    "\n",
    "recall = Score().recall(y_true=predictions[\"true_label\"], y_pred=predictions[\"pred_label\"], reverse=True)\n",
    "\n",
    "auc = Score().auc(y_true=predictions[\"true_label\"], y_pred=predictions[\"pred_label\"])\n",
    "\n",
    "print (accuracy, precision, recall, auc)"
   ]
  },
  {
   "cell_type": "code",
   "execution_count": 8,
   "metadata": {},
   "outputs": [
    {
     "ename": "ValueError",
     "evalue": "Reordering is not turned on, and the x array is not increasing: [ 0.  0.  0. ...,  1.  1.  1.]",
     "output_type": "error",
     "traceback": [
      "\u001b[1;31m---------------------------------------------------------------------------\u001b[0m",
      "\u001b[1;31mValueError\u001b[0m                                Traceback (most recent call last)",
      "\u001b[1;32m<ipython-input-8-8a66bf921308>\u001b[0m in \u001b[0;36m<module>\u001b[1;34m()\u001b[0m\n\u001b[0;32m      3\u001b[0m \u001b[1;33m\u001b[0m\u001b[0m\n\u001b[0;32m      4\u001b[0m \u001b[1;32mfrom\u001b[0m \u001b[0mplot\u001b[0m \u001b[1;32mimport\u001b[0m \u001b[0mPlot\u001b[0m\u001b[1;33m\u001b[0m\u001b[0m\n\u001b[1;32m----> 5\u001b[1;33m \u001b[0mPlot\u001b[0m\u001b[1;33m(\u001b[0m\u001b[1;33m)\u001b[0m\u001b[1;33m.\u001b[0m\u001b[0mvizualize\u001b[0m\u001b[1;33m(\u001b[0m\u001b[0mdata\u001b[0m\u001b[1;33m=\u001b[0m\u001b[0mpredictions\u001b[0m\u001b[1;33m[\u001b[0m\u001b[1;33m[\u001b[0m\u001b[1;34m\"true_label\"\u001b[0m\u001b[1;33m,\u001b[0m \u001b[1;34m\"pred_label\"\u001b[0m\u001b[1;33m]\u001b[0m\u001b[1;33m]\u001b[0m\u001b[1;33m,\u001b[0m \u001b[0mcolX\u001b[0m\u001b[1;33m=\u001b[0m\u001b[1;34m\"true_label\"\u001b[0m\u001b[1;33m,\u001b[0m \u001b[0mcolY\u001b[0m\u001b[1;33m=\u001b[0m\u001b[1;34m\"pred_label\"\u001b[0m\u001b[1;33m,\u001b[0m \u001b[0mlabel_col\u001b[0m\u001b[1;33m=\u001b[0m\u001b[1;32mNone\u001b[0m\u001b[1;33m,\u001b[0m \u001b[0mviz_type\u001b[0m\u001b[1;33m=\u001b[0m\u001b[1;34m\"roc\"\u001b[0m\u001b[1;33m,\u001b[0m \u001b[0mparams\u001b[0m\u001b[1;33m=\u001b[0m\u001b[1;33m{\u001b[0m\u001b[1;34m\"title\"\u001b[0m\u001b[1;33m:\u001b[0m\u001b[1;34m\"ROC Curve\"\u001b[0m\u001b[1;33m}\u001b[0m\u001b[1;33m)\u001b[0m\u001b[1;33m\u001b[0m\u001b[0m\n\u001b[0m",
      "\u001b[1;32m~\\Documents\\ImageClassification\\image_classification\\plot.py\u001b[0m in \u001b[0;36mvizualize\u001b[1;34m(self, data, colX, colY, label_col, viz_type, params, multiplot)\u001b[0m\n\u001b[0;32m    169\u001b[0m \u001b[1;33m\u001b[0m\u001b[0m\n\u001b[0;32m    170\u001b[0m         \u001b[1;32mif\u001b[0m \u001b[0mviz_type\u001b[0m \u001b[1;33m==\u001b[0m \u001b[1;34m'roc'\u001b[0m\u001b[1;33m:\u001b[0m\u001b[1;33m\u001b[0m\u001b[0m\n\u001b[1;32m--> 171\u001b[1;33m             \u001b[0max\u001b[0m \u001b[1;33m=\u001b[0m \u001b[0mself\u001b[0m\u001b[1;33m.\u001b[0m\u001b[0mroc\u001b[0m\u001b[1;33m(\u001b[0m\u001b[0mdata\u001b[0m\u001b[1;33m,\u001b[0m \u001b[0mcolX\u001b[0m\u001b[1;33m,\u001b[0m \u001b[0mcolY\u001b[0m\u001b[1;33m,\u001b[0m \u001b[0mparams\u001b[0m\u001b[1;33m,\u001b[0m \u001b[0mparams_keys\u001b[0m\u001b[1;33m)\u001b[0m\u001b[1;33m\u001b[0m\u001b[0m\n\u001b[0m\u001b[0;32m    172\u001b[0m \u001b[1;33m\u001b[0m\u001b[0m\n\u001b[0;32m    173\u001b[0m         for item in ([ax.title, ax.xaxis.label, ax.yaxis.label] +\n",
      "\u001b[1;32m~\\Documents\\ImageClassification\\image_classification\\plot.py\u001b[0m in \u001b[0;36mroc\u001b[1;34m(self, data, colX, colY, params, params_keys)\u001b[0m\n\u001b[0;32m    132\u001b[0m         \u001b[0mfpr\u001b[0m\u001b[1;33m,\u001b[0m \u001b[0mtpr\u001b[0m\u001b[1;33m,\u001b[0m \u001b[0mthreshold\u001b[0m \u001b[1;33m=\u001b[0m \u001b[0mmetrics\u001b[0m\u001b[1;33m.\u001b[0m\u001b[0mroc_curve\u001b[0m\u001b[1;33m(\u001b[0m\u001b[0mnp\u001b[0m\u001b[1;33m.\u001b[0m\u001b[0marray\u001b[0m\u001b[1;33m(\u001b[0m\u001b[0mdata\u001b[0m\u001b[1;33m[\u001b[0m\u001b[0mcolX\u001b[0m\u001b[1;33m]\u001b[0m\u001b[1;33m)\u001b[0m\u001b[1;33m,\u001b[0m \u001b[0mnp\u001b[0m\u001b[1;33m.\u001b[0m\u001b[0marray\u001b[0m\u001b[1;33m(\u001b[0m\u001b[0mdata\u001b[0m\u001b[1;33m[\u001b[0m\u001b[0mcolY\u001b[0m\u001b[1;33m]\u001b[0m\u001b[1;33m)\u001b[0m\u001b[1;33m)\u001b[0m\u001b[1;33m\u001b[0m\u001b[0m\n\u001b[0;32m    133\u001b[0m         ax.plot(fpr, tpr, 'b',\n\u001b[1;32m--> 134\u001b[1;33m                 label='AUC = %0.2f' % metrics.auc(np.array(data[colX]), np.array(data[colY])))\n\u001b[0m\u001b[0;32m    135\u001b[0m \u001b[1;33m\u001b[0m\u001b[0m\n\u001b[0;32m    136\u001b[0m         \u001b[0max\u001b[0m\u001b[1;33m.\u001b[0m\u001b[0mlegend\u001b[0m\u001b[1;33m(\u001b[0m\u001b[0mloc\u001b[0m\u001b[1;33m=\u001b[0m\u001b[1;34m'lower right'\u001b[0m\u001b[1;33m)\u001b[0m\u001b[1;33m\u001b[0m\u001b[0m\n",
      "\u001b[1;32mC:\\Anaconda\\lib\\site-packages\\sklearn\\metrics\\ranking.py\u001b[0m in \u001b[0;36mauc\u001b[1;34m(x, y, reorder)\u001b[0m\n\u001b[0;32m     97\u001b[0m             \u001b[1;32melse\u001b[0m\u001b[1;33m:\u001b[0m\u001b[1;33m\u001b[0m\u001b[0m\n\u001b[0;32m     98\u001b[0m                 raise ValueError(\"Reordering is not turned on, and \"\n\u001b[1;32m---> 99\u001b[1;33m                                  \"the x array is not increasing: %s\" % x)\n\u001b[0m\u001b[0;32m    100\u001b[0m \u001b[1;33m\u001b[0m\u001b[0m\n\u001b[0;32m    101\u001b[0m     \u001b[0marea\u001b[0m \u001b[1;33m=\u001b[0m \u001b[0mdirection\u001b[0m \u001b[1;33m*\u001b[0m \u001b[0mnp\u001b[0m\u001b[1;33m.\u001b[0m\u001b[0mtrapz\u001b[0m\u001b[1;33m(\u001b[0m\u001b[0my\u001b[0m\u001b[1;33m,\u001b[0m \u001b[0mx\u001b[0m\u001b[1;33m)\u001b[0m\u001b[1;33m\u001b[0m\u001b[0m\n",
      "\u001b[1;31mValueError\u001b[0m: Reordering is not turned on, and the x array is not increasing: [ 0.  0.  0. ...,  1.  1.  1.]"
     ]
    },
    {
     "data": {
      "image/png": "[encoded data removed]",
      "text/plain": [
       "<matplotlib.figure.Figure at 0x28b9b80e978>"
      ]
     },
     "metadata": {},
     "output_type": "display_data"
    }
   ],
   "source": [
    "import matplotlib.pyplot as plt\n",
    "%matplotlib inline\n",
    "\n",
    "from plot import Plot\n",
    "Plot().vizualize(data=predictions[[\"true_label\", \"pred_label\"]], \n",
    "                 colX=\"true_label\", colY=\"pred_label\", \n",
    "                 label_col=None, viz_type=\"roc\", params={\"title\":\"ROC Curve\"})"
   ]
  },
  {
   "cell_type": "code",
   "execution_count": 12,
   "metadata": {
    "collapsed": true
   },
   "outputs": [],
   "source": [
    "from sklearn import metrics\n",
    "a = metrics.roc_curve(np.array(predictions[\"true_label\"]), np.array(predictions[\"pred_label\"]))"
   ]
  },
  {
   "cell_type": "code",
   "execution_count": 13,
   "metadata": {},
   "outputs": [
    {
     "data": {
      "text/plain": [
       "(array([ 0.        ,  0.08537887,  1.        ]),\n",
       " array([ 0.        ,  0.95090715,  1.        ]),\n",
       " array([2, 1, 0], dtype=int64))"
      ]
     },
     "execution_count": 13,
     "metadata": {},
     "output_type": "execute_result"
    }
   ],
   "source": [
    "a"
   ]
  },
  {
   "cell_type": "code",
   "execution_count": 9,
   "metadata": {},
   "outputs": [
    {
     "data": {
      "text/plain": [
       "array([ 0.        ,  0.95090715,  1.        ])"
      ]
     },
     "execution_count": 9,
     "metadata": {},
     "output_type": "execute_result"
    }
   ],
   "source": [
    "tpr"
   ]
  },
  {
   "cell_type": "code",
   "execution_count": 10,
   "metadata": {},
   "outputs": [
    {
     "data": {
      "text/plain": [
       "array([2, 1, 0], dtype=int64)"
      ]
     },
     "execution_count": 10,
     "metadata": {},
     "output_type": "execute_result"
    }
   ],
   "source": [
    "threshold"
   ]
  },
  {
   "cell_type": "code",
   "execution_count": 14,
   "metadata": {},
   "outputs": [
    {
     "ename": "ModuleNotFoundError",
     "evalue": "No module named 'scikitplot'",
     "output_type": "error",
     "traceback": [
      "\u001b[1;31m---------------------------------------------------------------------------\u001b[0m",
      "\u001b[1;31mModuleNotFoundError\u001b[0m                       Traceback (most recent call last)",
      "\u001b[1;32m<ipython-input-14-767c6b5dc3bb>\u001b[0m in \u001b[0;36m<module>\u001b[1;34m()\u001b[0m\n\u001b[1;32m----> 1\u001b[1;33m \u001b[1;32mimport\u001b[0m \u001b[0mscikitplot\u001b[0m \u001b[1;32mas\u001b[0m \u001b[0mskplt\u001b[0m\u001b[1;33m\u001b[0m\u001b[0m\n\u001b[0m",
      "\u001b[1;31mModuleNotFoundError\u001b[0m: No module named 'scikitplot'"
     ]
    }
   ],
   "source": [
    "import scikitplot as skplt\n"
   ]
  },
  {
   "cell_type": "code",
   "execution_count": null,
   "metadata": {
    "collapsed": true
   },
   "outputs": [],
   "source": []
  }
 ],
 "metadata": {
  "kernelspec": {
   "display_name": "Python [default]",
   "language": "python",
   "name": "python3"
  },
  "language_info": {
   "codemirror_mode": {
    "name": "ipython",
    "version": 3
   },
   "file_extension": ".py",
   "mimetype": "text/x-python",
   "name": "python",
   "nbconvert_exporter": "python",
   "pygments_lexer": "ipython3",
   "version": "3.6.3"
  }
 },
 "nbformat": 4,
 "nbformat_minor": 2
}

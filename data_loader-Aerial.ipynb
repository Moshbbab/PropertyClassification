{
 "cells": [
  {
   "cell_type": "markdown",
   "metadata": {},
   "source": [
    "## Notes:\n",
    "----------\n",
    "\n",
    "Theory:\n",
    "We have see a lot of discreapancy with the images, hence for testing puspose we only select images that were last_reviewed after September 2017. We believe that the data atleast reviewed after september should be correct.\n",
    "\n",
    "1. The accessor photo column had some \"nan\" values, these were removed.\n",
    "2. \n",
    "\n",
    "\n",
    "\n",
    "\n",
    "## WHAT THE BELOW CELLS DO:\n",
    "\n",
    "1. We load the metadata file that contains the property metadata for appx 250000 properties including the assessor image.\n",
    "3. We dont want to experiment on all the images, so we select the ones that were last_reviewed after April 2017. We further filter the images. For land the images that have a improvement level as land are only selected. For House, images with improvement level of anything other than land is taken.\n",
    "4. We then collect all the assessor images from the links provided in the metadata table. Somtimes the images are not rendered properly, so we filter such images\n",
    "5. Similarly we gather all the Aerial images using Bing map API call\n",
    "6. Lastely we acquire all streeside images from Google.\n",
    "7. We can even gather all the Aerial images using Google map API call"
   ]
  },
  {
   "cell_type": "code",
   "execution_count": 2,
   "metadata": {},
   "outputs": [
    {
     "name": "stdout",
     "output_type": "stream",
     "text": [
      "INPUT the RUN NAME: Options : (\"A new run name\" or \"Any Previous Run Name\"\n",
      " WHICH_RUN = sam_new\n",
      "INPUT: Image-type OPTIONS: (assessor, assessor_code, aerial, overlayed, aerial_cropped, streetside and ensemble \n",
      " IMAGE_TYPE = aerial\n",
      "Metadata path:  C:\\Users\\newline\\Documents\\ImageClassification\\data\\house_metadata_nw.csv\n"
     ]
    }
   ],
   "source": [
    "import os\n",
    "import random\n",
    "import pandas as pd\n",
    "import numpy as np\n",
    "import logging\n",
    "from semantic_segmentation import utils as utl\n",
    "from semantic_segmentation.overlay_building_bbox import overlay_parcel_on_images\n",
    "\n",
    "logging.basicConfig(level=logging.DEBUG, filename=\"logfile.log\", filemode=\"w\", \n",
    "                    format=\"%(asctime)-15s %(levelname)-8s %(message)s\")\n",
    "\n",
    "from external_data import google_aerial # bing_aerial, google_streetside, \n",
    "from config import pathDict\n",
    "\n",
    "parent_path = pathDict['parent_path']\n",
    "xlsx_file = os.path.join(parent_path, \"Image_Classification_Project.xlsx\")\n",
    "meta_data_path = os.path.join(parent_path, \"house_metadata_nw.csv\")\n",
    "# assessor_image_path = os.path.join(parent_path, \"input_images\", \"assessor_images\")\n",
    "# # bing_aerial_image_path = os.path.join(parent_path, 'input_images','bing','aerial_images')\n",
    "# google_aerial_image_path = os.path.join(parent_path, 'input_images','google','aerial_images')\n",
    "# streetside_image_path = os.path.join(parent_path, 'input_images','streetside_images')\n",
    "\n",
    "print('Metadata path: ', meta_data_path)\n",
    "# print('Assessor image path: ', assessor_image_path)\n",
    "# # print('Aerial image path (Bing): ', bing_aerial_image_path)\n",
    "# print('Streetside image path: ', streetside_image_path)\n",
    "# print('Aerial image path (Google): ', google_aerial_image_path)\n",
    "\n",
    "xlsx_to_csv = False\n",
    "dump_aerial_google_images  = True\n",
    "overlay_bbox = True"
   ]
  },
  {
   "cell_type": "code",
   "execution_count": 13,
   "metadata": {},
   "outputs": [
    {
     "data": {
      "text/plain": [
       "{'batch_path': 'C:\\\\Users\\\\newline\\\\Documents\\\\ImageClassification\\\\data\\\\batch_data\\\\sam_new\\\\aerial',\n",
       " 'checkpoint_path': 'C:\\\\Users\\\\newline\\\\Documents\\\\ImageClassification\\\\data\\\\checkpoints\\\\sam_new\\\\aerial',\n",
       " 'chicago_bbox_shp_files': 'C:\\\\Users\\\\newline\\\\Documents\\\\ImageClassification\\\\data\\\\shape_files\\\\building_bbox',\n",
       " 'general_stats_path': 'C:\\\\Users\\\\newline\\\\Documents\\\\ImageClassification\\\\data\\\\statistics\\\\sam_new',\n",
       " 'image_path': 'C:\\\\Users\\\\newline\\\\Documents\\\\ImageClassification\\\\data\\\\input_images\\\\sam_new\\\\aerial',\n",
       " 'input_image_run_dir': 'C:\\\\Users\\\\newline\\\\Documents\\\\ImageClassification\\\\data\\\\input_images\\\\sam_new',\n",
       " 'parent_path': 'C:\\\\Users\\\\newline\\\\Documents\\\\ImageClassification\\\\data',\n",
       " 'statistics_path': 'C:\\\\Users\\\\newline\\\\Documents\\\\ImageClassification\\\\data\\\\statistics\\\\sam_new\\\\aerial',\n",
       " 'summary_path': 'C:\\\\Users\\\\newline\\\\Documents\\\\ImageClassification\\\\data\\\\summary\\\\sam_new\\\\aerial'}"
      ]
     },
     "execution_count": 13,
     "metadata": {},
     "output_type": "execute_result"
    }
   ],
   "source": [
    "pathDict"
   ]
  },
  {
   "cell_type": "code",
   "execution_count": 2,
   "metadata": {},
   "outputs": [
    {
     "data": {
      "text/plain": [
       "{'batch_path': '/Users/sam/All-Program/App-DataSet/HouseClassification/training_data/batch_data/sam_new/aerial',\n",
       " 'checkpoint_path': '/Users/sam/All-Program/App-DataSet/HouseClassification/training_data/checkpoints/sam_new/aerial',\n",
       " 'chicago_bbox_shp_files': '/Users/sam/All-Program/App-DataSet/HouseClassification/training_data/shape_files/building_bbox',\n",
       " 'general_stats_path': '/Users/sam/All-Program/App-DataSet/HouseClassification/training_data/statistics/sam_new',\n",
       " 'image_path': '/Users/sam/All-Program/App-DataSet/HouseClassification/training_data/input_images/sam_new/aerial',\n",
       " 'input_image_run_dir': '/Users/sam/All-Program/App-DataSet/HouseClassification/training_data/input_images/sam_new',\n",
       " 'parent_path': '/Users/sam/All-Program/App-DataSet/HouseClassification/training_data',\n",
       " 'statistics_path': '/Users/sam/All-Program/App-DataSet/HouseClassification/training_data/statistics/sam_new/aerial',\n",
       " 'summary_path': '/Users/sam/All-Program/App-DataSet/HouseClassification/training_data/summary/sam_new/aerial'}"
      ]
     },
     "execution_count": 2,
     "metadata": {},
     "output_type": "execute_result"
    }
   ],
   "source": [
    "pathDict"
   ]
  },
  {
   "cell_type": "markdown",
   "metadata": {},
   "source": [
    "### LOAD THE XLSX FILE GET DATA AND PUT INTO A NEW CSV FILE"
   ]
  },
  {
   "cell_type": "code",
   "execution_count": 3,
   "metadata": {
    "collapsed": true
   },
   "outputs": [],
   "source": [
    "if xlsx_to_csv:\n",
    "    data_xls = pd.read_excel(xlsx_file, 'Data Set', index_col=None)\n",
    "    data_xls.to_csv(meta_data_path, encoding='utf-8')"
   ]
  },
  {
   "cell_type": "code",
   "execution_count": null,
   "metadata": {
    "collapsed": true
   },
   "outputs": [],
   "source": []
  },
  {
   "cell_type": "markdown",
   "metadata": {},
   "source": [
    "# STEP 1: Load Metadata file\n",
    "------------"
   ]
  },
  {
   "cell_type": "code",
   "execution_count": 3,
   "metadata": {},
   "outputs": [
    {
     "name": "stderr",
     "output_type": "stream",
     "text": [
      "C:\\Anaconda\\lib\\site-packages\\IPython\\core\\interactiveshell.py:2698: DtypeWarning: Columns (9) have mixed types. Specify dtype option on import or set low_memory=False.\n",
      "  interactivity=interactivity, compiler=compiler, result=result)\n"
     ]
    },
    {
     "name": "stdout",
     "output_type": "stream",
     "text": [
      "(220364, 18)\n"
     ]
    },
    {
     "data": {
      "text/html": [
       "<div>\n",
       "<style scoped>\n",
       "    .dataframe tbody tr th:only-of-type {\n",
       "        vertical-align: middle;\n",
       "    }\n",
       "\n",
       "    .dataframe tbody tr th {\n",
       "        vertical-align: top;\n",
       "    }\n",
       "\n",
       "    .dataframe thead th {\n",
       "        text-align: right;\n",
       "    }\n",
       "</style>\n",
       "<table border=\"1\" class=\"dataframe\">\n",
       "  <thead>\n",
       "    <tr style=\"text-align: right;\">\n",
       "      <th></th>\n",
       "      <th>row_id</th>\n",
       "      <th>removed</th>\n",
       "      <th>property_id</th>\n",
       "      <th>state</th>\n",
       "      <th>county_name</th>\n",
       "      <th>pin</th>\n",
       "      <th>address_line1</th>\n",
       "      <th>address_line2</th>\n",
       "      <th>address_city</th>\n",
       "      <th>address_zip</th>\n",
       "      <th>zoning</th>\n",
       "      <th>improvement_level</th>\n",
       "      <th>type</th>\n",
       "      <th>exterior</th>\n",
       "      <th>last_reviewed_timestamp</th>\n",
       "      <th>gone_timestamp</th>\n",
       "      <th>indicator</th>\n",
       "      <th>assessor_photo</th>\n",
       "    </tr>\n",
       "  </thead>\n",
       "  <tbody>\n",
       "    <tr>\n",
       "      <th>1</th>\n",
       "      <td>1</td>\n",
       "      <td>0</td>\n",
       "      <td>499849</td>\n",
       "      <td>IL</td>\n",
       "      <td>Cook</td>\n",
       "      <td>01-01-100-109-0000</td>\n",
       "      <td>200S HOUGH ST</td>\n",
       "      <td>nan</td>\n",
       "      <td>BARRINGTON</td>\n",
       "      <td>nan</td>\n",
       "      <td>Vacant</td>\n",
       "      <td>Land</td>\n",
       "      <td>nan</td>\n",
       "      <td>nan</td>\n",
       "      <td>NaT</td>\n",
       "      <td>NaT</td>\n",
       "      <td>Likely Land</td>\n",
       "      <td>http://www.cookcountyassessor.com/PropertyImag...</td>\n",
       "    </tr>\n",
       "    <tr>\n",
       "      <th>2</th>\n",
       "      <td>2</td>\n",
       "      <td>0</td>\n",
       "      <td>499852</td>\n",
       "      <td>IL</td>\n",
       "      <td>Cook</td>\n",
       "      <td>01-01-101-029-0000</td>\n",
       "      <td>201 First</td>\n",
       "      <td>22 # Floor</td>\n",
       "      <td>BARRINGTON</td>\n",
       "      <td>nan</td>\n",
       "      <td>Vacant</td>\n",
       "      <td>Land</td>\n",
       "      <td>4 Unit Apt Bldg</td>\n",
       "      <td>Frame</td>\n",
       "      <td>NaT</td>\n",
       "      <td>NaT</td>\n",
       "      <td>Likely Land</td>\n",
       "      <td>http://www.cookcountyassessor.com/PropertyImag...</td>\n",
       "    </tr>\n",
       "    <tr>\n",
       "      <th>3</th>\n",
       "      <td>3</td>\n",
       "      <td>0</td>\n",
       "      <td>499854</td>\n",
       "      <td>IL</td>\n",
       "      <td>Cook</td>\n",
       "      <td>01-01-109-001-0000</td>\n",
       "      <td>323 MAIN ST</td>\n",
       "      <td>nan</td>\n",
       "      <td>BARRINGTON</td>\n",
       "      <td>600104305.0</td>\n",
       "      <td>Residential</td>\n",
       "      <td>Improved</td>\n",
       "      <td>2 Flat</td>\n",
       "      <td>Frame</td>\n",
       "      <td>2017-05-25 04:42:26.850</td>\n",
       "      <td>NaT</td>\n",
       "      <td>Likely House</td>\n",
       "      <td>http://www.cookcountyassessor.com/PropertyImag...</td>\n",
       "    </tr>\n",
       "  </tbody>\n",
       "</table>\n",
       "</div>"
      ],
      "text/plain": [
       "   row_id  removed  property_id state county_name                 pin  \\\n",
       "1       1        0       499849    IL        Cook  01-01-100-109-0000   \n",
       "2       2        0       499852    IL        Cook  01-01-101-029-0000   \n",
       "3       3        0       499854    IL        Cook  01-01-109-001-0000   \n",
       "\n",
       "   address_line1 address_line2 address_city  address_zip       zoning  \\\n",
       "1  200S HOUGH ST           nan   BARRINGTON          nan       Vacant   \n",
       "2      201 First    22 # Floor   BARRINGTON          nan       Vacant   \n",
       "3    323 MAIN ST           nan   BARRINGTON  600104305.0  Residential   \n",
       "\n",
       "  improvement_level             type exterior last_reviewed_timestamp  \\\n",
       "1              Land              nan      nan                     NaT   \n",
       "2              Land  4 Unit Apt Bldg    Frame                     NaT   \n",
       "3          Improved           2 Flat    Frame 2017-05-25 04:42:26.850   \n",
       "\n",
       "  gone_timestamp     indicator  \\\n",
       "1            NaT   Likely Land   \n",
       "2            NaT   Likely Land   \n",
       "3            NaT  Likely House   \n",
       "\n",
       "                                      assessor_photo  \n",
       "1  http://www.cookcountyassessor.com/PropertyImag...  \n",
       "2  http://www.cookcountyassessor.com/PropertyImag...  \n",
       "3  http://www.cookcountyassessor.com/PropertyImag...  "
      ]
     },
     "execution_count": 3,
     "metadata": {},
     "output_type": "execute_result"
    }
   ],
   "source": [
    "metadata = pd.read_csv(meta_data_path)\n",
    "metadata.columns = ['row_id', 'removed', 'property_id', 'state', 'county_name', 'pin',\n",
    "       'address_line1', 'address_line2', 'address_city', 'address_zip',\n",
    "       'zoning', 'improvement_level', 'type', 'exterior',\n",
    "       'last_reviewed_timestamp', 'gone_timestamp', 'indicator',\n",
    "       'assessor_photo']\n",
    "metadata['state'] = metadata['state'].astype('str')\n",
    "metadata['county_name'] = metadata['county_name'].astype('str')\n",
    "metadata['pin'] = metadata['pin'].astype('str')\n",
    "metadata['address_line1'] = metadata['address_line1'].astype('str')\n",
    "metadata['address_line2'] = metadata['address_line2'].astype('str')\n",
    "metadata['address_city'] = metadata['address_city'].astype('str')\n",
    "metadata['address_zip'] = metadata['address_zip'].astype('str')\n",
    "metadata['zoning'] = metadata['zoning'].astype('str')\n",
    "metadata['improvement_level'] = metadata['improvement_level'].astype('str')\n",
    "metadata['type'] = metadata['type'].astype('str')\n",
    "metadata['exterior'] = metadata['exterior'].astype('str')\n",
    "metadata['last_reviewed_timestamp'] = pd.to_datetime(metadata['last_reviewed_timestamp'])#.astype('str')\n",
    "metadata['gone_timestamp'] = pd.to_datetime(metadata['gone_timestamp'])#.astype('str')\n",
    "metadata['indicator'] = metadata['indicator'].astype('str')\n",
    "metadata['assessor_photo'] = metadata['assessor_photo'].astype('str')\n",
    "\n",
    "# Remove the Test Dat from Metadata\n",
    "metadata = metadata[metadata['removed'] == 0]\n",
    "print(metadata.shape)\n",
    "metadata.head(3)"
   ]
  },
  {
   "cell_type": "markdown",
   "metadata": {},
   "source": [
    "# STEP 2: Create a new Subset\n",
    "--------------"
   ]
  },
  {
   "cell_type": "code",
   "execution_count": 4,
   "metadata": {},
   "outputs": [
    {
     "name": "stdout",
     "output_type": "stream",
     "text": [
      "(28527, 18)\n"
     ]
    },
    {
     "data": {
      "text/html": [
       "<div>\n",
       "<style scoped>\n",
       "    .dataframe tbody tr th:only-of-type {\n",
       "        vertical-align: middle;\n",
       "    }\n",
       "\n",
       "    .dataframe tbody tr th {\n",
       "        vertical-align: top;\n",
       "    }\n",
       "\n",
       "    .dataframe thead th {\n",
       "        text-align: right;\n",
       "    }\n",
       "</style>\n",
       "<table border=\"1\" class=\"dataframe\">\n",
       "  <thead>\n",
       "    <tr style=\"text-align: right;\">\n",
       "      <th></th>\n",
       "      <th>row_id</th>\n",
       "      <th>removed</th>\n",
       "      <th>property_id</th>\n",
       "      <th>state</th>\n",
       "      <th>county_name</th>\n",
       "      <th>pin</th>\n",
       "      <th>address_line1</th>\n",
       "      <th>address_line2</th>\n",
       "      <th>address_city</th>\n",
       "      <th>address_zip</th>\n",
       "      <th>zoning</th>\n",
       "      <th>improvement_level</th>\n",
       "      <th>type</th>\n",
       "      <th>exterior</th>\n",
       "      <th>last_reviewed_timestamp</th>\n",
       "      <th>gone_timestamp</th>\n",
       "      <th>indicator</th>\n",
       "      <th>assessor_photo</th>\n",
       "    </tr>\n",
       "  </thead>\n",
       "  <tbody>\n",
       "    <tr>\n",
       "      <th>6111</th>\n",
       "      <td>6111</td>\n",
       "      <td>0</td>\n",
       "      <td>506508</td>\n",
       "      <td>IL</td>\n",
       "      <td>Cook</td>\n",
       "      <td>09-25-417-038-0000</td>\n",
       "      <td>7334 N OLEANDER AVE</td>\n",
       "      <td>nan</td>\n",
       "      <td>CHICAGO</td>\n",
       "      <td>606314308.0</td>\n",
       "      <td>Residential</td>\n",
       "      <td>Improved</td>\n",
       "      <td>nan</td>\n",
       "      <td>nan</td>\n",
       "      <td>2017-02-15 21:27:08.760</td>\n",
       "      <td>NaT</td>\n",
       "      <td>Likely House</td>\n",
       "      <td>http://www.cookcountyassessor.com/PropertyImag...</td>\n",
       "    </tr>\n",
       "    <tr>\n",
       "      <th>8746</th>\n",
       "      <td>8746</td>\n",
       "      <td>0</td>\n",
       "      <td>509513</td>\n",
       "      <td>IL</td>\n",
       "      <td>Cook</td>\n",
       "      <td>10-25-300-045-0000</td>\n",
       "      <td>3125 W HOWARD ST</td>\n",
       "      <td>nan</td>\n",
       "      <td>CHICAGO</td>\n",
       "      <td>606451139.0</td>\n",
       "      <td>Vacant</td>\n",
       "      <td>Land</td>\n",
       "      <td>nan</td>\n",
       "      <td>nan</td>\n",
       "      <td>2017-06-09 22:51:31.103</td>\n",
       "      <td>NaT</td>\n",
       "      <td>Likely Land</td>\n",
       "      <td>http://www.cookcountyassessor.com/PropertyImag...</td>\n",
       "    </tr>\n",
       "  </tbody>\n",
       "</table>\n",
       "</div>"
      ],
      "text/plain": [
       "      row_id  removed  property_id state county_name                 pin  \\\n",
       "6111    6111        0       506508    IL        Cook  09-25-417-038-0000   \n",
       "8746    8746        0       509513    IL        Cook  10-25-300-045-0000   \n",
       "\n",
       "            address_line1 address_line2 address_city  address_zip  \\\n",
       "6111  7334 N OLEANDER AVE           nan      CHICAGO  606314308.0   \n",
       "8746    3125 W HOWARD ST            nan     CHICAGO   606451139.0   \n",
       "\n",
       "           zoning improvement_level type exterior last_reviewed_timestamp  \\\n",
       "6111  Residential          Improved  nan      nan 2017-02-15 21:27:08.760   \n",
       "8746       Vacant              Land  nan      nan 2017-06-09 22:51:31.103   \n",
       "\n",
       "     gone_timestamp     indicator  \\\n",
       "6111            NaT  Likely House   \n",
       "8746            NaT   Likely Land   \n",
       "\n",
       "                                         assessor_photo  \n",
       "6111  http://www.cookcountyassessor.com/PropertyImag...  \n",
       "8746  http://www.cookcountyassessor.com/PropertyImag...  "
      ]
     },
     "execution_count": 4,
     "metadata": {},
     "output_type": "execute_result"
    }
   ],
   "source": [
    "metadata_lst_rvd_valid = metadata[metadata['last_reviewed_timestamp'] != '']\n",
    "metadata_lst_rvd_valid['last_reviewed_timestamp'] = pd.to_datetime(metadata_lst_rvd_valid['last_reviewed_timestamp'])\n",
    "metadata_lst_rvd_valid_2017 = metadata_lst_rvd_valid[((metadata_lst_rvd_valid['last_reviewed_timestamp'].dt.year == 2017) & (metadata_lst_rvd_valid['last_reviewed_timestamp'].dt.month >=1 ) &\n",
    "                                                      (metadata_lst_rvd_valid['address_city'].str.lower().str.strip().str.match('chicago')) &\n",
    "                                                      (metadata_lst_rvd_valid['address_line1'] != 'nan') &\n",
    "                                                      (metadata_lst_rvd_valid['assessor_photo'] != 'nan') &\n",
    "                                                     (metadata_lst_rvd_valid['indicator'].isin([\"Likely House\", \"Likely Land\"]) ))]\n",
    "image_data = metadata_lst_rvd_valid_2017\n",
    "print (metadata_lst_rvd_valid_2017.shape)\n",
    "metadata_lst_rvd_valid_2017.head(2)"
   ]
  },
  {
   "cell_type": "markdown",
   "metadata": {},
   "source": [
    "### LAND DATA\n",
    "----------------"
   ]
  },
  {
   "cell_type": "code",
   "execution_count": 5,
   "metadata": {},
   "outputs": [
    {
     "name": "stdout",
     "output_type": "stream",
     "text": [
      "['Land']\n",
      "(9873, 18)\n"
     ]
    },
    {
     "data": {
      "text/html": [
       "<div>\n",
       "<style scoped>\n",
       "    .dataframe tbody tr th:only-of-type {\n",
       "        vertical-align: middle;\n",
       "    }\n",
       "\n",
       "    .dataframe tbody tr th {\n",
       "        vertical-align: top;\n",
       "    }\n",
       "\n",
       "    .dataframe thead th {\n",
       "        text-align: right;\n",
       "    }\n",
       "</style>\n",
       "<table border=\"1\" class=\"dataframe\">\n",
       "  <thead>\n",
       "    <tr style=\"text-align: right;\">\n",
       "      <th></th>\n",
       "      <th>row_id</th>\n",
       "      <th>removed</th>\n",
       "      <th>property_id</th>\n",
       "      <th>state</th>\n",
       "      <th>county_name</th>\n",
       "      <th>pin</th>\n",
       "      <th>address_line1</th>\n",
       "      <th>address_line2</th>\n",
       "      <th>address_city</th>\n",
       "      <th>address_zip</th>\n",
       "      <th>zoning</th>\n",
       "      <th>improvement_level</th>\n",
       "      <th>type</th>\n",
       "      <th>exterior</th>\n",
       "      <th>last_reviewed_timestamp</th>\n",
       "      <th>gone_timestamp</th>\n",
       "      <th>indicator</th>\n",
       "      <th>assessor_photo</th>\n",
       "    </tr>\n",
       "  </thead>\n",
       "  <tbody>\n",
       "    <tr>\n",
       "      <th>8746</th>\n",
       "      <td>8746</td>\n",
       "      <td>0</td>\n",
       "      <td>509513</td>\n",
       "      <td>IL</td>\n",
       "      <td>Cook</td>\n",
       "      <td>10-25-300-045-0000</td>\n",
       "      <td>3125 W HOWARD ST</td>\n",
       "      <td>nan</td>\n",
       "      <td>CHICAGO</td>\n",
       "      <td>606451139.0</td>\n",
       "      <td>Vacant</td>\n",
       "      <td>Land</td>\n",
       "      <td>nan</td>\n",
       "      <td>nan</td>\n",
       "      <td>2017-06-09 22:51:31.103</td>\n",
       "      <td>NaT</td>\n",
       "      <td>Likely Land</td>\n",
       "      <td>http://www.cookcountyassessor.com/PropertyImag...</td>\n",
       "    </tr>\n",
       "    <tr>\n",
       "      <th>9339</th>\n",
       "      <td>9339</td>\n",
       "      <td>0</td>\n",
       "      <td>510240</td>\n",
       "      <td>IL</td>\n",
       "      <td>Cook</td>\n",
       "      <td>10-31-417-045-0000</td>\n",
       "      <td>6546 W DEVON AVE</td>\n",
       "      <td>nan</td>\n",
       "      <td>CHICAGO</td>\n",
       "      <td>606312038.0</td>\n",
       "      <td>Vacant</td>\n",
       "      <td>Land</td>\n",
       "      <td>nan</td>\n",
       "      <td>nan</td>\n",
       "      <td>2017-06-22 18:07:04.937</td>\n",
       "      <td>NaT</td>\n",
       "      <td>Likely Land</td>\n",
       "      <td>http://www.cookcountyassessor.com/PropertyImag...</td>\n",
       "    </tr>\n",
       "    <tr>\n",
       "      <th>9366</th>\n",
       "      <td>9366</td>\n",
       "      <td>0</td>\n",
       "      <td>510267</td>\n",
       "      <td>IL</td>\n",
       "      <td>Cook</td>\n",
       "      <td>10-32-126-007-0000</td>\n",
       "      <td>7046N MCALPIN AVE</td>\n",
       "      <td>nan</td>\n",
       "      <td>CHICAGO</td>\n",
       "      <td>60646.0</td>\n",
       "      <td>Vacant</td>\n",
       "      <td>Land</td>\n",
       "      <td>nan</td>\n",
       "      <td>nan</td>\n",
       "      <td>2017-06-09 22:51:31.103</td>\n",
       "      <td>NaT</td>\n",
       "      <td>Likely Land</td>\n",
       "      <td>http://www.cookcountyassessor.com/PropertyImag...</td>\n",
       "    </tr>\n",
       "  </tbody>\n",
       "</table>\n",
       "</div>"
      ],
      "text/plain": [
       "      row_id  removed  property_id state county_name                 pin  \\\n",
       "8746    8746        0       509513    IL        Cook  10-25-300-045-0000   \n",
       "9339    9339        0       510240    IL        Cook  10-31-417-045-0000   \n",
       "9366    9366        0       510267    IL        Cook  10-32-126-007-0000   \n",
       "\n",
       "          address_line1 address_line2 address_city  address_zip  zoning  \\\n",
       "8746  3125 W HOWARD ST            nan     CHICAGO   606451139.0  Vacant   \n",
       "9339  6546 W DEVON AVE            nan     CHICAGO   606312038.0  Vacant   \n",
       "9366  7046N MCALPIN AVE           nan      CHICAGO      60646.0  Vacant   \n",
       "\n",
       "     improvement_level type exterior last_reviewed_timestamp gone_timestamp  \\\n",
       "8746              Land  nan      nan 2017-06-09 22:51:31.103            NaT   \n",
       "9339              Land  nan      nan 2017-06-22 18:07:04.937            NaT   \n",
       "9366              Land  nan      nan 2017-06-09 22:51:31.103            NaT   \n",
       "\n",
       "        indicator                                     assessor_photo  \n",
       "8746  Likely Land  http://www.cookcountyassessor.com/PropertyImag...  \n",
       "9339  Likely Land  http://www.cookcountyassessor.com/PropertyImag...  \n",
       "9366  Likely Land  http://www.cookcountyassessor.com/PropertyImag...  "
      ]
     },
     "execution_count": 5,
     "metadata": {},
     "output_type": "execute_result"
    }
   ],
   "source": [
    "land_data = image_data[(image_data['indicator'] == 'Likely Land') & (image_data['improvement_level'] == 'Land')]\n",
    "print (np.unique(np.array(land_data['improvement_level'])))\n",
    "print (land_data.shape)\n",
    "land_data.head(3)"
   ]
  },
  {
   "cell_type": "markdown",
   "metadata": {},
   "source": [
    "### HOUSE DATA\n",
    "--------------"
   ]
  },
  {
   "cell_type": "code",
   "execution_count": 6,
   "metadata": {},
   "outputs": [
    {
     "name": "stdout",
     "output_type": "stream",
     "text": [
      "['Condominium' 'Improved' 'Minor Improvement' 'Mixed Use']\n",
      "(18392, 18)\n"
     ]
    },
    {
     "data": {
      "text/html": [
       "<div>\n",
       "<style scoped>\n",
       "    .dataframe tbody tr th:only-of-type {\n",
       "        vertical-align: middle;\n",
       "    }\n",
       "\n",
       "    .dataframe tbody tr th {\n",
       "        vertical-align: top;\n",
       "    }\n",
       "\n",
       "    .dataframe thead th {\n",
       "        text-align: right;\n",
       "    }\n",
       "</style>\n",
       "<table border=\"1\" class=\"dataframe\">\n",
       "  <thead>\n",
       "    <tr style=\"text-align: right;\">\n",
       "      <th></th>\n",
       "      <th>row_id</th>\n",
       "      <th>removed</th>\n",
       "      <th>property_id</th>\n",
       "      <th>state</th>\n",
       "      <th>county_name</th>\n",
       "      <th>pin</th>\n",
       "      <th>address_line1</th>\n",
       "      <th>address_line2</th>\n",
       "      <th>address_city</th>\n",
       "      <th>address_zip</th>\n",
       "      <th>zoning</th>\n",
       "      <th>improvement_level</th>\n",
       "      <th>type</th>\n",
       "      <th>exterior</th>\n",
       "      <th>last_reviewed_timestamp</th>\n",
       "      <th>gone_timestamp</th>\n",
       "      <th>indicator</th>\n",
       "      <th>assessor_photo</th>\n",
       "    </tr>\n",
       "  </thead>\n",
       "  <tbody>\n",
       "    <tr>\n",
       "      <th>6111</th>\n",
       "      <td>6111</td>\n",
       "      <td>0</td>\n",
       "      <td>506508</td>\n",
       "      <td>IL</td>\n",
       "      <td>Cook</td>\n",
       "      <td>09-25-417-038-0000</td>\n",
       "      <td>7334 N OLEANDER AVE</td>\n",
       "      <td>nan</td>\n",
       "      <td>CHICAGO</td>\n",
       "      <td>606314308.0</td>\n",
       "      <td>Residential</td>\n",
       "      <td>Improved</td>\n",
       "      <td>nan</td>\n",
       "      <td>nan</td>\n",
       "      <td>2017-02-15 21:27:08.760</td>\n",
       "      <td>NaT</td>\n",
       "      <td>Likely House</td>\n",
       "      <td>http://www.cookcountyassessor.com/PropertyImag...</td>\n",
       "    </tr>\n",
       "    <tr>\n",
       "      <th>8761</th>\n",
       "      <td>8761</td>\n",
       "      <td>0</td>\n",
       "      <td>509531</td>\n",
       "      <td>IL</td>\n",
       "      <td>Cook</td>\n",
       "      <td>10-25-308-043-0000</td>\n",
       "      <td>3146W FARGO AVE</td>\n",
       "      <td>nan</td>\n",
       "      <td>CHICAGO</td>\n",
       "      <td>60645.0</td>\n",
       "      <td>Residential</td>\n",
       "      <td>Improved</td>\n",
       "      <td>nan</td>\n",
       "      <td>nan</td>\n",
       "      <td>2017-02-10 21:21:30.520</td>\n",
       "      <td>NaT</td>\n",
       "      <td>Likely House</td>\n",
       "      <td>http://www.cookcountyassessor.com/PropertyImag...</td>\n",
       "    </tr>\n",
       "    <tr>\n",
       "      <th>8769</th>\n",
       "      <td>8769</td>\n",
       "      <td>0</td>\n",
       "      <td>509539</td>\n",
       "      <td>IL</td>\n",
       "      <td>Cook</td>\n",
       "      <td>10-25-314-003-0000</td>\n",
       "      <td>2949W FARGO AVE</td>\n",
       "      <td>nan</td>\n",
       "      <td>CHICAGO</td>\n",
       "      <td>60645.0</td>\n",
       "      <td>Residential</td>\n",
       "      <td>Improved</td>\n",
       "      <td>nan</td>\n",
       "      <td>nan</td>\n",
       "      <td>2017-02-23 16:25:51.033</td>\n",
       "      <td>NaT</td>\n",
       "      <td>Likely House</td>\n",
       "      <td>http://www.cookcountyassessor.com/PropertyImag...</td>\n",
       "    </tr>\n",
       "  </tbody>\n",
       "</table>\n",
       "</div>"
      ],
      "text/plain": [
       "      row_id  removed  property_id state county_name                 pin  \\\n",
       "6111    6111        0       506508    IL        Cook  09-25-417-038-0000   \n",
       "8761    8761        0       509531    IL        Cook  10-25-308-043-0000   \n",
       "8769    8769        0       509539    IL        Cook  10-25-314-003-0000   \n",
       "\n",
       "            address_line1 address_line2 address_city  address_zip  \\\n",
       "6111  7334 N OLEANDER AVE           nan      CHICAGO  606314308.0   \n",
       "8761      3146W FARGO AVE           nan      CHICAGO      60645.0   \n",
       "8769      2949W FARGO AVE           nan      CHICAGO      60645.0   \n",
       "\n",
       "           zoning improvement_level type exterior last_reviewed_timestamp  \\\n",
       "6111  Residential          Improved  nan      nan 2017-02-15 21:27:08.760   \n",
       "8761  Residential          Improved  nan      nan 2017-02-10 21:21:30.520   \n",
       "8769  Residential          Improved  nan      nan 2017-02-23 16:25:51.033   \n",
       "\n",
       "     gone_timestamp     indicator  \\\n",
       "6111            NaT  Likely House   \n",
       "8761            NaT  Likely House   \n",
       "8769            NaT  Likely House   \n",
       "\n",
       "                                         assessor_photo  \n",
       "6111  http://www.cookcountyassessor.com/PropertyImag...  \n",
       "8761  http://www.cookcountyassessor.com/PropertyImag...  \n",
       "8769  http://www.cookcountyassessor.com/PropertyImag...  "
      ]
     },
     "execution_count": 6,
     "metadata": {},
     "output_type": "execute_result"
    }
   ],
   "source": [
    "house_data = image_data[(image_data['indicator'] == 'Likely House') & (image_data['improvement_level'] != 'Land')]\n",
    "print (np.unique(np.array(house_data['improvement_level'])))\n",
    "print (house_data.shape)\n",
    "house_data.head(3)"
   ]
  },
  {
   "cell_type": "markdown",
   "metadata": {},
   "source": [
    "### UNKNOWN DATA\n",
    "-------------"
   ]
  },
  {
   "cell_type": "code",
   "execution_count": 7,
   "metadata": {},
   "outputs": [
    {
     "name": "stdout",
     "output_type": "stream",
     "text": [
      "(0, 18)\n"
     ]
    },
    {
     "data": {
      "text/html": [
       "<div>\n",
       "<style scoped>\n",
       "    .dataframe tbody tr th:only-of-type {\n",
       "        vertical-align: middle;\n",
       "    }\n",
       "\n",
       "    .dataframe tbody tr th {\n",
       "        vertical-align: top;\n",
       "    }\n",
       "\n",
       "    .dataframe thead th {\n",
       "        text-align: right;\n",
       "    }\n",
       "</style>\n",
       "<table border=\"1\" class=\"dataframe\">\n",
       "  <thead>\n",
       "    <tr style=\"text-align: right;\">\n",
       "      <th></th>\n",
       "      <th>row_id</th>\n",
       "      <th>removed</th>\n",
       "      <th>property_id</th>\n",
       "      <th>state</th>\n",
       "      <th>county_name</th>\n",
       "      <th>pin</th>\n",
       "      <th>address_line1</th>\n",
       "      <th>address_line2</th>\n",
       "      <th>address_city</th>\n",
       "      <th>address_zip</th>\n",
       "      <th>zoning</th>\n",
       "      <th>improvement_level</th>\n",
       "      <th>type</th>\n",
       "      <th>exterior</th>\n",
       "      <th>last_reviewed_timestamp</th>\n",
       "      <th>gone_timestamp</th>\n",
       "      <th>indicator</th>\n",
       "      <th>assessor_photo</th>\n",
       "    </tr>\n",
       "  </thead>\n",
       "  <tbody>\n",
       "  </tbody>\n",
       "</table>\n",
       "</div>"
      ],
      "text/plain": [
       "Empty DataFrame\n",
       "Columns: [row_id, removed, property_id, state, county_name, pin, address_line1, address_line2, address_city, address_zip, zoning, improvement_level, type, exterior, last_reviewed_timestamp, gone_timestamp, indicator, assessor_photo]\n",
       "Index: []"
      ]
     },
     "execution_count": 7,
     "metadata": {},
     "output_type": "execute_result"
    }
   ],
   "source": [
    "unknown_data = image_data[image_data['indicator'] == 'Unknown']\n",
    "print (unknown_data.shape)\n",
    "unknown_data.head(3)"
   ]
  },
  {
   "cell_type": "markdown",
   "metadata": {
    "collapsed": true
   },
   "source": [
    "# Step 1: Load Aerial Images (Google Static Maps):\n",
    "------------"
   ]
  },
  {
   "cell_type": "markdown",
   "metadata": {},
   "source": [
    "### Remove from the land_house_data where the PIN is already processed"
   ]
  },
  {
   "cell_type": "code",
   "execution_count": null,
   "metadata": {},
   "outputs": [
    {
     "name": "stdout",
     "output_type": "stream",
     "text": [
      "(28265, 18)\n",
      "Number of images already parsed and dumped  23556\n",
      "Number of new images to be parsed and dumped  4709\n",
      "TOTAL RECORDS PARSED: IMAGES DONE ======== 1403\r"
     ]
    }
   ],
   "source": [
    "from data_transformation.data_load import GetAerial\n",
    "if dump_aerial_google_images:\n",
    "    land_house_data = pd.concat([land_data, house_data])\n",
    "    print (land_house_data.shape)\n",
    "    pd.concat([land_house_data.head(2), land_house_data.tail(2)])\n",
    "    GetAerial(zoom=20, state='IL', map_size = '400x400', batch_size=100).parse_dump_aerial(land_house_data)"
   ]
  },
  {
   "cell_type": "markdown",
   "metadata": {},
   "source": [
    "# Step 2: Create Overlayed Images from Aerial Images:\n",
    "------------"
   ]
  },
  {
   "cell_type": "code",
   "execution_count": 8,
   "metadata": {},
   "outputs": [
    {
     "name": "stdout",
     "output_type": "stream",
     "text": [
      "C:\\Users\\newline\\Documents\\ImageClassification\\data\\input_images\\sam_new\\overlayed\n",
      "C:\\Users\\newline\\Documents\\ImageClassification\\data\\input_images\\sam_new\\aerial\n",
      "C:\\Users\\newline\\Documents\\ImageClassification\\data\\statistics\\sam_new\\aerial\\aerial_collected_data_stats\n",
      "Initiating Run for scoop scoop_738_768 : DATA SHAPE (93246, 13)\n",
      "Total images to be processed are  (0, 9)\n",
      "\n",
      "Initiating Run for scoop scoop_768_798 : DATA SHAPE (94331, 13)\n",
      "Total images to be processed are  (1, 9)\n",
      "\n",
      "Initiating Run for scoop scoop_798_848 : DATA SHAPE (80697, 13)\n",
      "Total images to be processed are  (0, 9)\n",
      "\n",
      "Initiating Run for scoop scoop_848_908 : DATA SHAPE (90177, 13)\n",
      "Total images to be processed are  (0, 9)\n",
      "\n",
      "Initiating Run for scoop scoop_908_938 : DATA SHAPE (92080, 13)\n",
      "Total images to be processed are  (359, 9)\n",
      "TOTAL RECORDS PARSED: IMAGES DONE ======== 358\n",
      "Initiating Run for scoop scoop_938_968 : DATA SHAPE (91240, 13)\n",
      "Total images to be processed are  (635, 9)\n",
      "TOTAL RECORDS PARSED: IMAGES DONE ======== 634\n",
      "Initiating Run for scoop scoop_968_028 : DATA SHAPE (86448, 13)\n",
      "Total images to be processed are  (783, 9)\n",
      "TOTAL RECORDS PARSED: IMAGES DONE ======== 782\n"
     ]
    }
   ],
   "source": [
    "from data_transformation.data_load import GetOverlayed\n",
    "obj_overlayed = GetOverlayed()\n",
    "print (obj_overlayed.overlayed_image_path)\n",
    "print (obj_overlayed.aerial_image_path)\n",
    "print (obj_overlayed.stats_path)\n",
    "obj_overlayed.parse_dump_overlayed()"
   ]
  },
  {
   "cell_type": "markdown",
   "metadata": {},
   "source": [
    "# Step 3: Create Cropped Images from Aerial Images:\n",
    "------------"
   ]
  },
  {
   "cell_type": "code",
   "execution_count": 9,
   "metadata": {},
   "outputs": [
    {
     "name": "stdout",
     "output_type": "stream",
     "text": [
      "C:\\Users\\newline\\Documents\\ImageClassification\\data\\input_images\\sam_new\\aerial_cropped\n",
      "C:\\Users\\newline\\Documents\\ImageClassification\\data\\input_images\\sam_new\\aerial\n",
      "C:\\Users\\newline\\Documents\\ImageClassification\\data\\statistics\\sam_new\\aerial\\aerial_collected_data_stats\n",
      "Initiating Run for scoop scoop_738_768 : DATA SHAPE (93246, 13)\n",
      "Initiating Run for scoop scoop_768_798 : DATA SHAPE (94331, 13)\n",
      "Initiating Run for scoop scoop_798_848 : DATA SHAPE (80697, 13)\n",
      "Initiating Run for scoop scoop_848_908 : DATA SHAPE (90177, 13)\n",
      "Initiating Run for scoop scoop_908_938 : DATA SHAPE (92080, 13)\n",
      "Initiating Run for scoop scoop_938_968 : DATA SHAPE (91240, 13)\n",
      "Initiating Run for scoop scoop_968_028 : DATA SHAPE (86448, 13)\n",
      "TOTAL RECORDS PARSED: IMAGES DONE ======== 782\r"
     ]
    }
   ],
   "source": [
    "from data_transformation.data_load import GetAerialCropped\n",
    "obj_cropped = GetAerialCropped()\n",
    "print (obj_cropped.aerial_cropped_img_path)\n",
    "print (obj_cropped.aerial_image_path)\n",
    "print (obj_cropped.stats_path)\n",
    "obj_cropped.parse_dump_aerial_cropped()"
   ]
  },
  {
   "cell_type": "code",
   "execution_count": null,
   "metadata": {
    "collapsed": true
   },
   "outputs": [],
   "source": []
  }
 ],
 "metadata": {
  "kernelspec": {
   "display_name": "Python [default]",
   "language": "python",
   "name": "python3"
  },
  "language_info": {
   "codemirror_mode": {
    "name": "ipython",
    "version": 3
   },
   "file_extension": ".py",
   "mimetype": "text/x-python",
   "name": "python",
   "nbconvert_exporter": "python",
   "pygments_lexer": "ipython3",
   "version": "3.6.3"
  }
 },
 "nbformat": 4,
 "nbformat_minor": 1
}

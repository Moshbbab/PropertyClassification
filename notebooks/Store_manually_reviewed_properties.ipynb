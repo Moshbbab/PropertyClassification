{
 "cells": [
  {
   "cell_type": "code",
   "execution_count": 1,
   "metadata": {
    "collapsed": true
   },
   "outputs": [],
   "source": [
    "import os\n",
    "import numpy as np\n",
    "import pandas as pd\n",
    "import shutil"
   ]
  },
  {
   "cell_type": "code",
   "execution_count": 11,
   "metadata": {},
   "outputs": [
    {
     "name": "stdout",
     "output_type": "stream",
     "text": [
      "5608\n",
      "11154\n",
      "8727\n",
      "16327\n"
     ]
    }
   ],
   "source": [
    "# We manually scanned over appx 20000 property and made sure to the best of my knowledge that they allign with the label\n",
    "\n",
    "# We reviewed it or Aerial Cropped images and would sync the same for Aerial\n",
    "path_to_aerial_cropped = r'C:\\Users\\newline\\Documents\\ImageClassification\\data\\input_images\\sam_new\\aerial_cropped'\n",
    "old_aerial_dump_path = r'C:\\Users\\newline\\Documents\\ImageClassification\\data\\input_images\\sam_new\\aerial'\n",
    "new_aerial_dump_path = r'C:\\Users\\newline\\Documents\\ImageClassification\\data\\input_images\\sam_new\\new_aerial'\n",
    "\n",
    "cropped_land_path = os.path.join(path_to_aerial_cropped, 'land')\n",
    "cropped_house_path = os.path.join(path_to_aerial_cropped, 'house')\n",
    "\n",
    "aerial_cropped_land_pins = [p.split('.')[0] for p in os.listdir(cropped_land_path) if p not in '.DS_Store']\n",
    "aerial_cropped_house_pins = [p.split('.')[0] for p in os.listdir(cropped_house_path) if p not in '.DS_Store']\n",
    "\n",
    "old_aerial_land_pins = [p.split('.')[0] for p in os.listdir(os.path.join(old_aerial_dump_path, 'land')) if p not in '.DS_Store']\n",
    "old_aerial_house_pins = [p.split('.')[0] for p in os.listdir(os.path.join(old_aerial_dump_path, 'house')) if p not in '.DS_Store']\n",
    "    \n",
    "new_aerial_land_pins = [p.split('.')[0] for p in os.listdir(os.path.join(new_aerial_dunp_path, 'land')) if p not in '.DS_Store']\n",
    "new_aerial_house_pins = [p.split('.')[0] for p in os.listdir(os.path.join(new_aerial_dunp_path, 'house')) if p not in '.DS_Store']\n",
    "\n",
    "print (len(aerial_cropped_land_pins))\n",
    "print (len(aerial_cropped_house_pins))\n",
    "print (len(old_aerial_land_pins))\n",
    "print (len(old_aerial_house_pins))"
   ]
  },
  {
   "cell_type": "code",
   "execution_count": 14,
   "metadata": {},
   "outputs": [
    {
     "name": "stdout",
     "output_type": "stream",
     "text": [
      "5286\n",
      "0\n"
     ]
    }
   ],
   "source": [
    "good_lands = np.intersect1d(aerial_cropped_land_pins, old_aerial_land_pins)\n",
    "print (len(good_lands))\n",
    "\n",
    "not_found = 0\n",
    "for pins in good_lands:\n",
    "    from_path = os.path.join(old_aerial_dump_path, 'land', pins+'.jpg')\n",
    "    to_path = os.path.join(new_aerial_dump_path, 'land', pins+'.jpg')\n",
    "#     print(from_path)\n",
    "#     print(to_path)\n",
    "#     break\n",
    "    if os.path.exists(from_path):\n",
    "        shutil.move(from_path, to_path)\n",
    "    else:\n",
    "        not_found+=1\n",
    "print (not_found)"
   ]
  },
  {
   "cell_type": "code",
   "execution_count": 16,
   "metadata": {},
   "outputs": [
    {
     "name": "stdout",
     "output_type": "stream",
     "text": [
      "11035\n",
      "0\n"
     ]
    }
   ],
   "source": [
    "good_house = np.intersect1d(aerial_cropped_house_pins, old_aerial_house_pins)\n",
    "print (len(good_house))\n",
    "\n",
    "not_found = 0\n",
    "for pins in good_house:\n",
    "    from_path = os.path.join(old_aerial_dump_path, 'house', pins+'.jpg')\n",
    "    to_path = os.path.join(new_aerial_dump_path, 'house', pins+'.jpg')\n",
    "#     print(from_path)\n",
    "#     print(to_path)\n",
    "#     break\n",
    "    if os.path.exists(from_path):\n",
    "        shutil.move(from_path, to_path)\n",
    "    else:\n",
    "        not_found+=1\n",
    "print (not_found)"
   ]
  },
  {
   "cell_type": "code",
   "execution_count": 18,
   "metadata": {},
   "outputs": [
    {
     "name": "stdout",
     "output_type": "stream",
     "text": [
      "322\n",
      "0\n"
     ]
    }
   ],
   "source": [
    "mislabeled_land = np.intersect1d(aerial_cropped_land_pins, old_aerial_house_pins)\n",
    "print (len(mislabeled_land))\n",
    "\n",
    "not_found = 0\n",
    "for pins in mislabeled_land:\n",
    "    from_path = os.path.join(old_aerial_dump_path, 'house', pins+'.jpg')\n",
    "    to_path = os.path.join(new_aerial_dump_path, 'land', pins+'.jpg')\n",
    "#     print(from_path)\n",
    "#     print(to_path)\n",
    "#     break\n",
    "    if os.path.exists(from_path):\n",
    "        shutil.move(from_path, to_path)\n",
    "    else:\n",
    "        not_found+=1\n",
    "print (not_found)"
   ]
  },
  {
   "cell_type": "code",
   "execution_count": 20,
   "metadata": {},
   "outputs": [
    {
     "name": "stdout",
     "output_type": "stream",
     "text": [
      "119\n",
      "0\n"
     ]
    }
   ],
   "source": [
    "mislabeled_house = np.intersect1d(aerial_cropped_house_pins, old_aerial_land_pins)\n",
    "print (len(mislabeled_house))\n",
    "\n",
    "not_found = 0\n",
    "for pins in mislabeled_house:\n",
    "    from_path = os.path.join(old_aerial_dump_path, 'land', pins+'.jpg')\n",
    "    to_path = os.path.join(new_aerial_dump_path, 'house', pins+'.jpg')\n",
    "#     print(from_path)\n",
    "#     print(to_path)\n",
    "#     break\n",
    "    if os.path.exists(from_path):\n",
    "        shutil.move(from_path, to_path)\n",
    "    else:\n",
    "        not_found+=1\n",
    "print (not_found)"
   ]
  },
  {
   "cell_type": "markdown",
   "metadata": {},
   "source": [
    "# Lets save correct land - house metadata to the disk"
   ]
  },
  {
   "cell_type": "code",
   "execution_count": 51,
   "metadata": {},
   "outputs": [
    {
     "name": "stdout",
     "output_type": "stream",
     "text": [
      "20838 20838\n"
     ]
    }
   ],
   "source": [
    "aerial_house_path = r'C:\\Users\\newline\\Documents\\ImageClassification\\data\\input_images\\sam_new\\aerial\\house'\n",
    "aerial_land_path = r'C:\\Users\\newline\\Documents\\ImageClassification\\data\\input_images\\sam_new\\aerial\\land'\n",
    "house_pins = [p.split('.')[0] for p in os.listdir(aerial_house_path) if p not in '.DS_Store']\n",
    "land_pins = [p.split('.')[0] for p in os.listdir(aerial_land_path) if p not in '.DS_Store']\n",
    "\n",
    "house_land = house_pins + land_pins\n",
    "house_land_indicator = np.append(np.tile('Likely House', len(house_pins)), np.tile('Likely Land', len(land_pins)))\n",
    "print(len(house_land), len(house_land_indicator))\n",
    "pd.DataFrame({'pin':house_land, 'indicator':house_land_indicator}).to_csv(r'C:\\Users\\newline\\Documents\\ImageClassification\\data\\actual_land_house_list.csv')"
   ]
  },
  {
   "cell_type": "markdown",
   "metadata": {},
   "source": [
    "# Extras\n",
    "\n",
    "The Aerial cropped images work on the latitude and longitude from the file stored in statistics:\n",
    "C:\\Users\\newline\\Documents\\ImageClassification\\data\\statistics\\sam_new\\aerial\\aerial_collected_data_stats\n",
    "\n",
    "* Since we have replaced many lands and houses, we could want to sync our CSV file accrodingly"
   ]
  },
  {
   "cell_type": "code",
   "execution_count": 52,
   "metadata": {},
   "outputs": [
    {
     "name": "stdout",
     "output_type": "stream",
     "text": [
      "(29235, 9) (20838, 3)\n"
     ]
    },
    {
     "data": {
      "text/html": [
       "<div>\n",
       "<style scoped>\n",
       "    .dataframe tbody tr th:only-of-type {\n",
       "        vertical-align: middle;\n",
       "    }\n",
       "\n",
       "    .dataframe tbody tr th {\n",
       "        vertical-align: top;\n",
       "    }\n",
       "\n",
       "    .dataframe thead th {\n",
       "        text-align: right;\n",
       "    }\n",
       "</style>\n",
       "<table border=\"1\" class=\"dataframe\">\n",
       "  <thead>\n",
       "    <tr style=\"text-align: right;\">\n",
       "      <th></th>\n",
       "      <th>pin</th>\n",
       "      <th>address</th>\n",
       "      <th>city</th>\n",
       "      <th>lat</th>\n",
       "      <th>lon</th>\n",
       "      <th>loc_type</th>\n",
       "      <th>indicator</th>\n",
       "      <th>meta_url</th>\n",
       "      <th>img_url</th>\n",
       "    </tr>\n",
       "  </thead>\n",
       "  <tbody>\n",
       "    <tr>\n",
       "      <th>0</th>\n",
       "      <td>20-22-205-027-0000</td>\n",
       "      <td>6324 S LANGLEY AVE</td>\n",
       "      <td>CHICAGO</td>\n",
       "      <td>41.779551</td>\n",
       "      <td>-87.608711</td>\n",
       "      <td>ROOFTOP</td>\n",
       "      <td>Likely Land</td>\n",
       "      <td>https://maps.googleapis.com/maps/api/geocode/j...</td>\n",
       "      <td>https://maps.googleapis.com/maps/api/staticmap...</td>\n",
       "    </tr>\n",
       "    <tr>\n",
       "      <th>1</th>\n",
       "      <td>20-18-125-001-0000</td>\n",
       "      <td>5800 S DAMEN AVE</td>\n",
       "      <td>CHICAGO</td>\n",
       "      <td>41.788213</td>\n",
       "      <td>-87.674747</td>\n",
       "      <td>ROOFTOP</td>\n",
       "      <td>Likely Land</td>\n",
       "      <td>https://maps.googleapis.com/maps/api/geocode/j...</td>\n",
       "      <td>https://maps.googleapis.com/maps/api/staticmap...</td>\n",
       "    </tr>\n",
       "    <tr>\n",
       "      <th>2</th>\n",
       "      <td>20-22-211-022-0000</td>\n",
       "      <td>6459 S RHODES AVE</td>\n",
       "      <td>CHICAGO</td>\n",
       "      <td>41.777059</td>\n",
       "      <td>-87.611604</td>\n",
       "      <td>ROOFTOP</td>\n",
       "      <td>Likely Land</td>\n",
       "      <td>https://maps.googleapis.com/maps/api/geocode/j...</td>\n",
       "      <td>https://maps.googleapis.com/maps/api/staticmap...</td>\n",
       "    </tr>\n",
       "    <tr>\n",
       "      <th>3</th>\n",
       "      <td>25-28-205-003-0000</td>\n",
       "      <td>117 W 119TH ST</td>\n",
       "      <td>CHICAGO</td>\n",
       "      <td>41.677730</td>\n",
       "      <td>-87.625908</td>\n",
       "      <td>ROOFTOP</td>\n",
       "      <td>Likely Land</td>\n",
       "      <td>https://maps.googleapis.com/maps/api/geocode/j...</td>\n",
       "      <td>https://maps.googleapis.com/maps/api/staticmap...</td>\n",
       "    </tr>\n",
       "    <tr>\n",
       "      <th>4</th>\n",
       "      <td>17-33-122-096-0000</td>\n",
       "      <td>3341 S WALLACE ST</td>\n",
       "      <td>CHICAGO</td>\n",
       "      <td>41.833246</td>\n",
       "      <td>-87.640932</td>\n",
       "      <td>ROOFTOP</td>\n",
       "      <td>Likely Land</td>\n",
       "      <td>https://maps.googleapis.com/maps/api/geocode/j...</td>\n",
       "      <td>https://maps.googleapis.com/maps/api/staticmap...</td>\n",
       "    </tr>\n",
       "  </tbody>\n",
       "</table>\n",
       "</div>"
      ],
      "text/plain": [
       "                  pin              address      city        lat        lon  \\\n",
       "0  20-22-205-027-0000  6324 S LANGLEY AVE   CHICAGO   41.779551 -87.608711   \n",
       "1  20-18-125-001-0000    5800 S DAMEN AVE   CHICAGO   41.788213 -87.674747   \n",
       "2  20-22-211-022-0000   6459 S RHODES AVE   CHICAGO   41.777059 -87.611604   \n",
       "3  25-28-205-003-0000      117 W 119TH ST   CHICAGO   41.677730 -87.625908   \n",
       "4  17-33-122-096-0000   3341 S WALLACE ST   CHICAGO   41.833246 -87.640932   \n",
       "\n",
       "  loc_type    indicator                                           meta_url  \\\n",
       "0  ROOFTOP  Likely Land  https://maps.googleapis.com/maps/api/geocode/j...   \n",
       "1  ROOFTOP  Likely Land  https://maps.googleapis.com/maps/api/geocode/j...   \n",
       "2  ROOFTOP  Likely Land  https://maps.googleapis.com/maps/api/geocode/j...   \n",
       "3  ROOFTOP  Likely Land  https://maps.googleapis.com/maps/api/geocode/j...   \n",
       "4  ROOFTOP  Likely Land  https://maps.googleapis.com/maps/api/geocode/j...   \n",
       "\n",
       "                                             img_url  \n",
       "0  https://maps.googleapis.com/maps/api/staticmap...  \n",
       "1  https://maps.googleapis.com/maps/api/staticmap...  \n",
       "2  https://maps.googleapis.com/maps/api/staticmap...  \n",
       "3  https://maps.googleapis.com/maps/api/staticmap...  \n",
       "4  https://maps.googleapis.com/maps/api/staticmap...  "
      ]
     },
     "execution_count": 52,
     "metadata": {},
     "output_type": "execute_result"
    }
   ],
   "source": [
    "old_pin_metadata_list = r'C:\\Users\\newline\\Documents\\ImageClassification\\data\\statistics\\sam_new\\aerial\\aerial_collected_data_stats\\1524181313_0_29234.csv'\n",
    "new_pin_metadata_list = r'C:\\Users\\newline\\Documents\\ImageClassification\\data\\actual_land_house_list.csv'\n",
    "old_metadata = pd.read_csv(old_pin_metadata_list)\n",
    "new_metadata = pd.read_csv(new_pin_metadata_list)\n",
    "print (old_metadata.shape, new_metadata.shape)\n",
    "old_metadata.head()"
   ]
  },
  {
   "cell_type": "code",
   "execution_count": 53,
   "metadata": {},
   "outputs": [
    {
     "name": "stdout",
     "output_type": "stream",
     "text": [
      "20838 20838\n"
     ]
    },
    {
     "data": {
      "text/html": [
       "<div>\n",
       "<style scoped>\n",
       "    .dataframe tbody tr th:only-of-type {\n",
       "        vertical-align: middle;\n",
       "    }\n",
       "\n",
       "    .dataframe tbody tr th {\n",
       "        vertical-align: top;\n",
       "    }\n",
       "\n",
       "    .dataframe thead th {\n",
       "        text-align: right;\n",
       "    }\n",
       "</style>\n",
       "<table border=\"1\" class=\"dataframe\">\n",
       "  <thead>\n",
       "    <tr style=\"text-align: right;\">\n",
       "      <th></th>\n",
       "      <th>Unnamed: 0</th>\n",
       "      <th>indicator</th>\n",
       "      <th>pin</th>\n",
       "    </tr>\n",
       "  </thead>\n",
       "  <tbody>\n",
       "    <tr>\n",
       "      <th>0</th>\n",
       "      <td>0</td>\n",
       "      <td>Likely House</td>\n",
       "      <td>10-25-306-014-0000</td>\n",
       "    </tr>\n",
       "    <tr>\n",
       "      <th>1</th>\n",
       "      <td>1</td>\n",
       "      <td>Likely House</td>\n",
       "      <td>10-25-307-027-0000</td>\n",
       "    </tr>\n",
       "    <tr>\n",
       "      <th>2</th>\n",
       "      <td>2</td>\n",
       "      <td>Likely House</td>\n",
       "      <td>10-25-307-043-0000</td>\n",
       "    </tr>\n",
       "    <tr>\n",
       "      <th>3</th>\n",
       "      <td>3</td>\n",
       "      <td>Likely House</td>\n",
       "      <td>10-25-308-043-0000</td>\n",
       "    </tr>\n",
       "    <tr>\n",
       "      <th>4</th>\n",
       "      <td>4</td>\n",
       "      <td>Likely House</td>\n",
       "      <td>10-25-319-014-0000</td>\n",
       "    </tr>\n",
       "  </tbody>\n",
       "</table>\n",
       "</div>"
      ],
      "text/plain": [
       "   Unnamed: 0     indicator                 pin\n",
       "0           0  Likely House  10-25-306-014-0000\n",
       "1           1  Likely House  10-25-307-027-0000\n",
       "2           2  Likely House  10-25-307-043-0000\n",
       "3           3  Likely House  10-25-308-043-0000\n",
       "4           4  Likely House  10-25-319-014-0000"
      ]
     },
     "execution_count": 53,
     "metadata": {},
     "output_type": "execute_result"
    }
   ],
   "source": [
    "print (len(np.unique(new_metadata[['pin']])), len(new_metadata))\n",
    "new_metadata.head()"
   ]
  },
  {
   "cell_type": "code",
   "execution_count": 54,
   "metadata": {},
   "outputs": [
    {
     "data": {
      "text/plain": [
       "indicator    object\n",
       "pin          object\n",
       "dtype: object"
      ]
     },
     "execution_count": 54,
     "metadata": {},
     "output_type": "execute_result"
    }
   ],
   "source": [
    "# we change the old indicator to original_indicator place a new indicator\n",
    "new_metadata = new_metadata.drop('Unnamed: 0', axis=1)\n",
    "new_metadata.dtypes"
   ]
  },
  {
   "cell_type": "code",
   "execution_count": 55,
   "metadata": {},
   "outputs": [
    {
     "data": {
      "text/plain": [
       "pin          object\n",
       "address      object\n",
       "city         object\n",
       "lat         float64\n",
       "lon         float64\n",
       "loc_type     object\n",
       "meta_url     object\n",
       "img_url      object\n",
       "dtype: object"
      ]
     },
     "execution_count": 55,
     "metadata": {},
     "output_type": "execute_result"
    }
   ],
   "source": [
    "old_metadata = old_metadata.drop('indicator', axis=1)\n",
    "old_metadata.dtypes"
   ]
  },
  {
   "cell_type": "code",
   "execution_count": 56,
   "metadata": {},
   "outputs": [
    {
     "name": "stdout",
     "output_type": "stream",
     "text": [
      "(20838, 9)\n"
     ]
    },
    {
     "data": {
      "text/html": [
       "<div>\n",
       "<style scoped>\n",
       "    .dataframe tbody tr th:only-of-type {\n",
       "        vertical-align: middle;\n",
       "    }\n",
       "\n",
       "    .dataframe tbody tr th {\n",
       "        vertical-align: top;\n",
       "    }\n",
       "\n",
       "    .dataframe thead th {\n",
       "        text-align: right;\n",
       "    }\n",
       "</style>\n",
       "<table border=\"1\" class=\"dataframe\">\n",
       "  <thead>\n",
       "    <tr style=\"text-align: right;\">\n",
       "      <th></th>\n",
       "      <th>indicator</th>\n",
       "      <th>pin</th>\n",
       "      <th>address</th>\n",
       "      <th>city</th>\n",
       "      <th>lat</th>\n",
       "      <th>lon</th>\n",
       "      <th>loc_type</th>\n",
       "      <th>meta_url</th>\n",
       "      <th>img_url</th>\n",
       "    </tr>\n",
       "  </thead>\n",
       "  <tbody>\n",
       "    <tr>\n",
       "      <th>0</th>\n",
       "      <td>Likely House</td>\n",
       "      <td>10-25-306-014-0000</td>\n",
       "      <td>2917 W JEROME ST</td>\n",
       "      <td>CHICAGO</td>\n",
       "      <td>42.018137</td>\n",
       "      <td>-87.702732</td>\n",
       "      <td>ROOFTOP</td>\n",
       "      <td>https://maps.googleapis.com/maps/api/geocode/j...</td>\n",
       "      <td>https://maps.googleapis.com/maps/api/staticmap...</td>\n",
       "    </tr>\n",
       "    <tr>\n",
       "      <th>1</th>\n",
       "      <td>Likely House</td>\n",
       "      <td>10-25-307-027-0000</td>\n",
       "      <td>2818 W BIRCHWOOD AVE</td>\n",
       "      <td>CHICAGO</td>\n",
       "      <td>42.017704</td>\n",
       "      <td>-87.700422</td>\n",
       "      <td>ROOFTOP</td>\n",
       "      <td>https://maps.googleapis.com/maps/api/geocode/j...</td>\n",
       "      <td>https://maps.googleapis.com/maps/api/staticmap...</td>\n",
       "    </tr>\n",
       "    <tr>\n",
       "      <th>2</th>\n",
       "      <td>Likely House</td>\n",
       "      <td>10-25-307-043-0000</td>\n",
       "      <td>2801 W JEROME ST</td>\n",
       "      <td>CHICAGO</td>\n",
       "      <td>42.018236</td>\n",
       "      <td>-87.699960</td>\n",
       "      <td>ROOFTOP</td>\n",
       "      <td>https://maps.googleapis.com/maps/api/geocode/j...</td>\n",
       "      <td>https://maps.googleapis.com/maps/api/staticmap...</td>\n",
       "    </tr>\n",
       "    <tr>\n",
       "      <th>3</th>\n",
       "      <td>Likely House</td>\n",
       "      <td>10-25-308-043-0000</td>\n",
       "      <td>3146W FARGO AVE</td>\n",
       "      <td>CHICAGO</td>\n",
       "      <td>42.016628</td>\n",
       "      <td>-87.708544</td>\n",
       "      <td>ROOFTOP</td>\n",
       "      <td>https://maps.googleapis.com/maps/api/geocode/j...</td>\n",
       "      <td>https://maps.googleapis.com/maps/api/staticmap...</td>\n",
       "    </tr>\n",
       "    <tr>\n",
       "      <th>4</th>\n",
       "      <td>Likely House</td>\n",
       "      <td>10-25-319-014-0000</td>\n",
       "      <td>2917 W JARVIS AVE</td>\n",
       "      <td>CHICAGO</td>\n",
       "      <td>42.015430</td>\n",
       "      <td>-87.702770</td>\n",
       "      <td>ROOFTOP</td>\n",
       "      <td>https://maps.googleapis.com/maps/api/geocode/j...</td>\n",
       "      <td>https://maps.googleapis.com/maps/api/staticmap...</td>\n",
       "    </tr>\n",
       "  </tbody>\n",
       "</table>\n",
       "</div>"
      ],
      "text/plain": [
       "      indicator                 pin               address  \\\n",
       "0  Likely House  10-25-306-014-0000      2917 W JEROME ST   \n",
       "1  Likely House  10-25-307-027-0000  2818 W BIRCHWOOD AVE   \n",
       "2  Likely House  10-25-307-043-0000      2801 W JEROME ST   \n",
       "3  Likely House  10-25-308-043-0000       3146W FARGO AVE   \n",
       "4  Likely House  10-25-319-014-0000     2917 W JARVIS AVE   \n",
       "\n",
       "                     city        lat        lon loc_type  \\\n",
       "0                 CHICAGO  42.018137 -87.702732  ROOFTOP   \n",
       "1  CHICAGO                 42.017704 -87.700422  ROOFTOP   \n",
       "2  CHICAGO                 42.018236 -87.699960  ROOFTOP   \n",
       "3                 CHICAGO  42.016628 -87.708544  ROOFTOP   \n",
       "4  CHICAGO                 42.015430 -87.702770  ROOFTOP   \n",
       "\n",
       "                                            meta_url  \\\n",
       "0  https://maps.googleapis.com/maps/api/geocode/j...   \n",
       "1  https://maps.googleapis.com/maps/api/geocode/j...   \n",
       "2  https://maps.googleapis.com/maps/api/geocode/j...   \n",
       "3  https://maps.googleapis.com/maps/api/geocode/j...   \n",
       "4  https://maps.googleapis.com/maps/api/geocode/j...   \n",
       "\n",
       "                                             img_url  \n",
       "0  https://maps.googleapis.com/maps/api/staticmap...  \n",
       "1  https://maps.googleapis.com/maps/api/staticmap...  \n",
       "2  https://maps.googleapis.com/maps/api/staticmap...  \n",
       "3  https://maps.googleapis.com/maps/api/staticmap...  \n",
       "4  https://maps.googleapis.com/maps/api/staticmap...  "
      ]
     },
     "execution_count": 56,
     "metadata": {},
     "output_type": "execute_result"
    }
   ],
   "source": [
    "new_corrected_meta = new_metadata.merge(old_metadata, how='inner',  on='pin')\n",
    "print(new_corrected_meta.shape)\n",
    "new_corrected_meta.head()"
   ]
  },
  {
   "cell_type": "code",
   "execution_count": 57,
   "metadata": {
    "collapsed": true
   },
   "outputs": [],
   "source": [
    "# Dump the corrected Data\n",
    "new_corrected_meta.to_csv(old_pin_metadata_list, index=None)"
   ]
  },
  {
   "cell_type": "markdown",
   "metadata": {},
   "source": [
    "# Final Check:\n",
    "Check if all the properties are dumped correctly, and are consistent accross aerial and aerial cropped images"
   ]
  },
  {
   "cell_type": "code",
   "execution_count": 63,
   "metadata": {},
   "outputs": [
    {
     "name": "stdout",
     "output_type": "stream",
     "text": [
      "9684 8339 8339\n",
      "11154 11154 11154\n"
     ]
    }
   ],
   "source": [
    "aerial_path = r'C:\\Users\\newline\\Documents\\ImageClassification\\data\\input_images\\sam_new\\aerial'\n",
    "aerial_cropped_path = r'C:\\Users\\newline\\Documents\\ImageClassification\\data\\input_images\\sam_new\\aerial_cropped'\n",
    "\n",
    "aerial_land_pins = [p.split('.')[0] for p in os.listdir(os.path.join(aerial_path, 'land')) if p != '.DS_Store']\n",
    "aerial_house_pins = [p.split('.')[0] for p in os.listdir(os.path.join(aerial_path, 'house')) if p != '.DS_Store']\n",
    "\n",
    "aerial_cropped_land_pins = [p.split('.')[0] for p in os.listdir(os.path.join(aerial_cropped_path, 'land')) if p != '.DS_Store']\n",
    "aerial_cropped_house_pins = [p.split('.')[0] for p in os.listdir(os.path.join(aerial_cropped_path, 'house')) if p != '.DS_Store']\n",
    "\n",
    "print (len(aerial_land_pins), len(aerial_cropped_land_pins), len(np.intersect1d(aerial_land_pins, aerial_cropped_land_pins)))\n",
    "print (len(aerial_house_pins), len(aerial_cropped_house_pins), len(np.intersect1d(aerial_house_pins, aerial_cropped_house_pins)))\n"
   ]
  },
  {
   "cell_type": "code",
   "execution_count": null,
   "metadata": {
    "collapsed": true
   },
   "outputs": [],
   "source": []
  }
 ],
 "metadata": {
  "kernelspec": {
   "display_name": "Python [default]",
   "language": "python",
   "name": "python3"
  },
  "language_info": {
   "codemirror_mode": {
    "name": "ipython",
    "version": 3
   },
   "file_extension": ".py",
   "mimetype": "text/x-python",
   "name": "python",
   "nbconvert_exporter": "python",
   "pygments_lexer": "ipython3",
   "version": "3.6.3"
  }
 },
 "nbformat": 4,
 "nbformat_minor": 2
}

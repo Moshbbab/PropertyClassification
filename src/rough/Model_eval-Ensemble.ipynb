{
 "cells": [
  {
   "cell_type": "code",
   "execution_count": 2,
   "metadata": {
    "collapsed": true
   },
   "outputs": [],
   "source": [
    "import numpy as np\n",
    "import pandas as pd\n",
    "\n",
    "\n",
    "###  PROVIDE THE STATS DIRECTORIES\n",
    "pin_info_data = '/Users/sam/All-Program/App-DataSet/HouseClassification/statistics/overlayed_images/cv_train_pins_info.csv'\n",
    "\n",
    "overlayed_ts_stats = '/Users/sam/All-Program/App-DataSet/HouseClassification/statistics/overlayed_images/96x96_0.0005/ts_pred_stats.csv'\n",
    "overlayed_cv_stats = '/Users/sam/All-Program/App-DataSet/HouseClassification/statistics/overlayed_images/96x96_0.0005/cv_pred_stats.csv'\n",
    "\n",
    "aerial_ts_stats = '/Users/sam/All-Program/App-DataSet/HouseClassification/statistics/aerial_images/ts_pred_stats.csv'\n",
    "aerial_cv_stats = '/Users/sam/All-Program/App-DataSet/HouseClassification/statistics/aerial_images/cv_pred_stats.csv'\n",
    "\n",
    "assessor_ts_stats = '/Users/sam/All-Program/App-DataSet/HouseClassification/statistics/assessor_images/ts_pred_stats.csv'\n",
    "assessor_cv_stats = '/Users/sam/All-Program/App-DataSet/HouseClassification/statistics/assessor_images/cv_pred_stats.csv'"
   ]
  },
  {
   "cell_type": "code",
   "execution_count": 3,
   "metadata": {},
   "outputs": [
    {
     "name": "stdout",
     "output_type": "stream",
     "text": [
      "(10866, 3)\n",
      "(1086, 3)\n",
      "(1086, 3)\n"
     ]
    },
    {
     "data": {
      "text/html": [
       "<div>\n",
       "<style>\n",
       "    .dataframe thead tr:only-child th {\n",
       "        text-align: right;\n",
       "    }\n",
       "\n",
       "    .dataframe thead th {\n",
       "        text-align: left;\n",
       "    }\n",
       "\n",
       "    .dataframe tbody tr th {\n",
       "        vertical-align: top;\n",
       "    }\n",
       "</style>\n",
       "<table border=\"1\" class=\"dataframe\">\n",
       "  <thead>\n",
       "    <tr style=\"text-align: right;\">\n",
       "      <th></th>\n",
       "      <th>property_pins</th>\n",
       "      <th>property_type</th>\n",
       "      <th>dataset_type</th>\n",
       "    </tr>\n",
       "  </thead>\n",
       "  <tbody>\n",
       "    <tr>\n",
       "      <th>0</th>\n",
       "      <td>21-31-209-007-0000</td>\n",
       "      <td>land</td>\n",
       "      <td>test</td>\n",
       "    </tr>\n",
       "    <tr>\n",
       "      <th>1</th>\n",
       "      <td>20-04-222-037-0000</td>\n",
       "      <td>land</td>\n",
       "      <td>test</td>\n",
       "    </tr>\n",
       "    <tr>\n",
       "      <th>2</th>\n",
       "      <td>16-03-100-033-0000</td>\n",
       "      <td>land</td>\n",
       "      <td>test</td>\n",
       "    </tr>\n",
       "  </tbody>\n",
       "</table>\n",
       "</div>"
      ],
      "text/plain": [
       "        property_pins property_type dataset_type\n",
       "0  21-31-209-007-0000          land         test\n",
       "1  20-04-222-037-0000          land         test\n",
       "2  16-03-100-033-0000          land         test"
      ]
     },
     "execution_count": 3,
     "metadata": {},
     "output_type": "execute_result"
    }
   ],
   "source": [
    "pin_info = pd.read_csv(pin_info_data, index_col=None)\n",
    "test_pins = pin_info[pin_info['dataset_type'] == 'test'].reset_index().drop('index', 1)\n",
    "cv_pins = pin_info[pin_info['dataset_type'] == 'cvalid'].reset_index().drop('index', 1)\n",
    "print (pin_info.shape)\n",
    "print (test_pins.shape)\n",
    "print (cv_pins.shape)\n",
    "pin_info.head(3)"
   ]
  },
  {
   "cell_type": "markdown",
   "metadata": {},
   "source": [
    "## OVERLAYED DATA"
   ]
  },
  {
   "cell_type": "code",
   "execution_count": 4,
   "metadata": {},
   "outputs": [
    {
     "name": "stdout",
     "output_type": "stream",
     "text": [
      "(1086, 21)\n",
      "(1086, 21)\n"
     ]
    },
    {
     "data": {
      "text/html": [
       "<div>\n",
       "<style>\n",
       "    .dataframe thead tr:only-child th {\n",
       "        text-align: right;\n",
       "    }\n",
       "\n",
       "    .dataframe thead th {\n",
       "        text-align: left;\n",
       "    }\n",
       "\n",
       "    .dataframe tbody tr th {\n",
       "        vertical-align: top;\n",
       "    }\n",
       "</style>\n",
       "<table border=\"1\" class=\"dataframe\">\n",
       "  <thead>\n",
       "    <tr style=\"text-align: right;\">\n",
       "      <th></th>\n",
       "      <th>Label</th>\n",
       "      <th>epoch_1_batch_49_pred</th>\n",
       "      <th>epoch_1_batch_49_prob</th>\n",
       "      <th>epoch_1_batch_59_pred</th>\n",
       "      <th>epoch_1_batch_59_prob</th>\n",
       "      <th>epoch_1_batch_66_pred</th>\n",
       "      <th>epoch_1_batch_66_prob</th>\n",
       "      <th>epoch_2_batch_9_pred</th>\n",
       "      <th>epoch_2_batch_9_prob</th>\n",
       "      <th>epoch_2_batch_19_pred</th>\n",
       "      <th>...</th>\n",
       "      <th>epoch_2_batch_29_pred</th>\n",
       "      <th>epoch_2_batch_29_prob</th>\n",
       "      <th>epoch_2_batch_39_pred</th>\n",
       "      <th>epoch_2_batch_39_prob</th>\n",
       "      <th>epoch_2_batch_49_pred</th>\n",
       "      <th>epoch_2_batch_49_prob</th>\n",
       "      <th>epoch_2_batch_59_pred</th>\n",
       "      <th>epoch_2_batch_59_prob</th>\n",
       "      <th>epoch_2_batch_66_pred</th>\n",
       "      <th>epoch_2_batch_66_prob</th>\n",
       "    </tr>\n",
       "  </thead>\n",
       "  <tbody>\n",
       "    <tr>\n",
       "      <th>0</th>\n",
       "      <td>0.0</td>\n",
       "      <td>0.0</td>\n",
       "      <td>1.0</td>\n",
       "      <td>0.0</td>\n",
       "      <td>1.00000</td>\n",
       "      <td>0.0</td>\n",
       "      <td>1.000000</td>\n",
       "      <td>0.0</td>\n",
       "      <td>1.0</td>\n",
       "      <td>0.0</td>\n",
       "      <td>...</td>\n",
       "      <td>0.0</td>\n",
       "      <td>1.000000</td>\n",
       "      <td>0.0</td>\n",
       "      <td>1.000000</td>\n",
       "      <td>0.0</td>\n",
       "      <td>1.000000</td>\n",
       "      <td>0.0</td>\n",
       "      <td>1.000000</td>\n",
       "      <td>0.0</td>\n",
       "      <td>1.0</td>\n",
       "    </tr>\n",
       "    <tr>\n",
       "      <th>1</th>\n",
       "      <td>0.0</td>\n",
       "      <td>1.0</td>\n",
       "      <td>1.0</td>\n",
       "      <td>1.0</td>\n",
       "      <td>0.99708</td>\n",
       "      <td>1.0</td>\n",
       "      <td>1.000000</td>\n",
       "      <td>1.0</td>\n",
       "      <td>1.0</td>\n",
       "      <td>1.0</td>\n",
       "      <td>...</td>\n",
       "      <td>1.0</td>\n",
       "      <td>0.988976</td>\n",
       "      <td>1.0</td>\n",
       "      <td>0.999999</td>\n",
       "      <td>0.0</td>\n",
       "      <td>0.999479</td>\n",
       "      <td>1.0</td>\n",
       "      <td>0.999612</td>\n",
       "      <td>1.0</td>\n",
       "      <td>1.0</td>\n",
       "    </tr>\n",
       "    <tr>\n",
       "      <th>2</th>\n",
       "      <td>0.0</td>\n",
       "      <td>0.0</td>\n",
       "      <td>1.0</td>\n",
       "      <td>0.0</td>\n",
       "      <td>1.00000</td>\n",
       "      <td>0.0</td>\n",
       "      <td>0.918669</td>\n",
       "      <td>0.0</td>\n",
       "      <td>1.0</td>\n",
       "      <td>0.0</td>\n",
       "      <td>...</td>\n",
       "      <td>0.0</td>\n",
       "      <td>1.000000</td>\n",
       "      <td>0.0</td>\n",
       "      <td>1.000000</td>\n",
       "      <td>0.0</td>\n",
       "      <td>1.000000</td>\n",
       "      <td>0.0</td>\n",
       "      <td>1.000000</td>\n",
       "      <td>0.0</td>\n",
       "      <td>1.0</td>\n",
       "    </tr>\n",
       "  </tbody>\n",
       "</table>\n",
       "<p>3 rows × 21 columns</p>\n",
       "</div>"
      ],
      "text/plain": [
       "   Label  epoch_1_batch_49_pred  epoch_1_batch_49_prob  epoch_1_batch_59_pred  \\\n",
       "0    0.0                    0.0                    1.0                    0.0   \n",
       "1    0.0                    1.0                    1.0                    1.0   \n",
       "2    0.0                    0.0                    1.0                    0.0   \n",
       "\n",
       "   epoch_1_batch_59_prob  epoch_1_batch_66_pred  epoch_1_batch_66_prob  \\\n",
       "0                1.00000                    0.0               1.000000   \n",
       "1                0.99708                    1.0               1.000000   \n",
       "2                1.00000                    0.0               0.918669   \n",
       "\n",
       "   epoch_2_batch_9_pred  epoch_2_batch_9_prob  epoch_2_batch_19_pred  \\\n",
       "0                   0.0                   1.0                    0.0   \n",
       "1                   1.0                   1.0                    1.0   \n",
       "2                   0.0                   1.0                    0.0   \n",
       "\n",
       "           ...            epoch_2_batch_29_pred  epoch_2_batch_29_prob  \\\n",
       "0          ...                              0.0               1.000000   \n",
       "1          ...                              1.0               0.988976   \n",
       "2          ...                              0.0               1.000000   \n",
       "\n",
       "   epoch_2_batch_39_pred  epoch_2_batch_39_prob  epoch_2_batch_49_pred  \\\n",
       "0                    0.0               1.000000                    0.0   \n",
       "1                    1.0               0.999999                    0.0   \n",
       "2                    0.0               1.000000                    0.0   \n",
       "\n",
       "   epoch_2_batch_49_prob  epoch_2_batch_59_pred  epoch_2_batch_59_prob  \\\n",
       "0               1.000000                    0.0               1.000000   \n",
       "1               0.999479                    1.0               0.999612   \n",
       "2               1.000000                    0.0               1.000000   \n",
       "\n",
       "   epoch_2_batch_66_pred  epoch_2_batch_66_prob  \n",
       "0                    0.0                    1.0  \n",
       "1                    1.0                    1.0  \n",
       "2                    0.0                    1.0  \n",
       "\n",
       "[3 rows x 21 columns]"
      ]
     },
     "execution_count": 4,
     "metadata": {},
     "output_type": "execute_result"
    }
   ],
   "source": [
    "overlayed_ts_data = pd.read_csv(overlayed_ts_stats, index_col=None)\n",
    "overlayed_cv_data = pd.read_csv(overlayed_cv_stats, index_col=None)\n",
    "print (overlayed_ts_data.shape)\n",
    "print (overlayed_cv_data.shape)\n",
    "overlayed_ts_data.head(3)"
   ]
  },
  {
   "cell_type": "markdown",
   "metadata": {},
   "source": [
    "## AERIAL DATA"
   ]
  },
  {
   "cell_type": "code",
   "execution_count": 5,
   "metadata": {},
   "outputs": [
    {
     "name": "stdout",
     "output_type": "stream",
     "text": [
      "(1086, 21)\n",
      "(1086, 21)\n"
     ]
    },
    {
     "data": {
      "text/html": [
       "<div>\n",
       "<style>\n",
       "    .dataframe thead tr:only-child th {\n",
       "        text-align: right;\n",
       "    }\n",
       "\n",
       "    .dataframe thead th {\n",
       "        text-align: left;\n",
       "    }\n",
       "\n",
       "    .dataframe tbody tr th {\n",
       "        vertical-align: top;\n",
       "    }\n",
       "</style>\n",
       "<table border=\"1\" class=\"dataframe\">\n",
       "  <thead>\n",
       "    <tr style=\"text-align: right;\">\n",
       "      <th></th>\n",
       "      <th>Label</th>\n",
       "      <th>epoch_1_batch_49_pred</th>\n",
       "      <th>epoch_1_batch_49_prob</th>\n",
       "      <th>epoch_1_batch_59_pred</th>\n",
       "      <th>epoch_1_batch_59_prob</th>\n",
       "      <th>epoch_1_batch_66_pred</th>\n",
       "      <th>epoch_1_batch_66_prob</th>\n",
       "      <th>epoch_2_batch_9_pred</th>\n",
       "      <th>epoch_2_batch_9_prob</th>\n",
       "      <th>epoch_2_batch_19_pred</th>\n",
       "      <th>...</th>\n",
       "      <th>epoch_2_batch_29_pred</th>\n",
       "      <th>epoch_2_batch_29_prob</th>\n",
       "      <th>epoch_2_batch_39_pred</th>\n",
       "      <th>epoch_2_batch_39_prob</th>\n",
       "      <th>epoch_2_batch_49_pred</th>\n",
       "      <th>epoch_2_batch_49_prob</th>\n",
       "      <th>epoch_2_batch_59_pred</th>\n",
       "      <th>epoch_2_batch_59_prob</th>\n",
       "      <th>epoch_2_batch_66_pred</th>\n",
       "      <th>epoch_2_batch_66_prob</th>\n",
       "    </tr>\n",
       "  </thead>\n",
       "  <tbody>\n",
       "    <tr>\n",
       "      <th>0</th>\n",
       "      <td>0.0</td>\n",
       "      <td>0.0</td>\n",
       "      <td>1.000000</td>\n",
       "      <td>0.0</td>\n",
       "      <td>0.999608</td>\n",
       "      <td>0.0</td>\n",
       "      <td>0.999994</td>\n",
       "      <td>0.0</td>\n",
       "      <td>1.0</td>\n",
       "      <td>0.0</td>\n",
       "      <td>...</td>\n",
       "      <td>0.0</td>\n",
       "      <td>1.000000</td>\n",
       "      <td>0.0</td>\n",
       "      <td>1.00000</td>\n",
       "      <td>1.0</td>\n",
       "      <td>0.800144</td>\n",
       "      <td>0.0</td>\n",
       "      <td>0.999972</td>\n",
       "      <td>0.0</td>\n",
       "      <td>0.999965</td>\n",
       "    </tr>\n",
       "    <tr>\n",
       "      <th>1</th>\n",
       "      <td>0.0</td>\n",
       "      <td>1.0</td>\n",
       "      <td>0.564701</td>\n",
       "      <td>1.0</td>\n",
       "      <td>0.995706</td>\n",
       "      <td>0.0</td>\n",
       "      <td>0.997238</td>\n",
       "      <td>0.0</td>\n",
       "      <td>1.0</td>\n",
       "      <td>0.0</td>\n",
       "      <td>...</td>\n",
       "      <td>1.0</td>\n",
       "      <td>0.673236</td>\n",
       "      <td>0.0</td>\n",
       "      <td>0.99993</td>\n",
       "      <td>1.0</td>\n",
       "      <td>0.956202</td>\n",
       "      <td>0.0</td>\n",
       "      <td>0.999993</td>\n",
       "      <td>0.0</td>\n",
       "      <td>0.999765</td>\n",
       "    </tr>\n",
       "    <tr>\n",
       "      <th>2</th>\n",
       "      <td>0.0</td>\n",
       "      <td>0.0</td>\n",
       "      <td>1.000000</td>\n",
       "      <td>0.0</td>\n",
       "      <td>1.000000</td>\n",
       "      <td>0.0</td>\n",
       "      <td>1.000000</td>\n",
       "      <td>0.0</td>\n",
       "      <td>1.0</td>\n",
       "      <td>0.0</td>\n",
       "      <td>...</td>\n",
       "      <td>0.0</td>\n",
       "      <td>1.000000</td>\n",
       "      <td>0.0</td>\n",
       "      <td>1.00000</td>\n",
       "      <td>0.0</td>\n",
       "      <td>1.000000</td>\n",
       "      <td>0.0</td>\n",
       "      <td>1.000000</td>\n",
       "      <td>0.0</td>\n",
       "      <td>1.000000</td>\n",
       "    </tr>\n",
       "  </tbody>\n",
       "</table>\n",
       "<p>3 rows × 21 columns</p>\n",
       "</div>"
      ],
      "text/plain": [
       "   Label  epoch_1_batch_49_pred  epoch_1_batch_49_prob  epoch_1_batch_59_pred  \\\n",
       "0    0.0                    0.0               1.000000                    0.0   \n",
       "1    0.0                    1.0               0.564701                    1.0   \n",
       "2    0.0                    0.0               1.000000                    0.0   \n",
       "\n",
       "   epoch_1_batch_59_prob  epoch_1_batch_66_pred  epoch_1_batch_66_prob  \\\n",
       "0               0.999608                    0.0               0.999994   \n",
       "1               0.995706                    0.0               0.997238   \n",
       "2               1.000000                    0.0               1.000000   \n",
       "\n",
       "   epoch_2_batch_9_pred  epoch_2_batch_9_prob  epoch_2_batch_19_pred  \\\n",
       "0                   0.0                   1.0                    0.0   \n",
       "1                   0.0                   1.0                    0.0   \n",
       "2                   0.0                   1.0                    0.0   \n",
       "\n",
       "           ...            epoch_2_batch_29_pred  epoch_2_batch_29_prob  \\\n",
       "0          ...                              0.0               1.000000   \n",
       "1          ...                              1.0               0.673236   \n",
       "2          ...                              0.0               1.000000   \n",
       "\n",
       "   epoch_2_batch_39_pred  epoch_2_batch_39_prob  epoch_2_batch_49_pred  \\\n",
       "0                    0.0                1.00000                    1.0   \n",
       "1                    0.0                0.99993                    1.0   \n",
       "2                    0.0                1.00000                    0.0   \n",
       "\n",
       "   epoch_2_batch_49_prob  epoch_2_batch_59_pred  epoch_2_batch_59_prob  \\\n",
       "0               0.800144                    0.0               0.999972   \n",
       "1               0.956202                    0.0               0.999993   \n",
       "2               1.000000                    0.0               1.000000   \n",
       "\n",
       "   epoch_2_batch_66_pred  epoch_2_batch_66_prob  \n",
       "0                    0.0               0.999965  \n",
       "1                    0.0               0.999765  \n",
       "2                    0.0               1.000000  \n",
       "\n",
       "[3 rows x 21 columns]"
      ]
     },
     "execution_count": 5,
     "metadata": {},
     "output_type": "execute_result"
    }
   ],
   "source": [
    "aerial_ts_data = pd.read_csv(aerial_ts_stats, index_col=None)\n",
    "aerial_cv_data = pd.read_csv(aerial_cv_stats, index_col=None)\n",
    "print (aerial_ts_data.shape)\n",
    "print (aerial_cv_data.shape)\n",
    "aerial_ts_data.head(3)"
   ]
  },
  {
   "cell_type": "markdown",
   "metadata": {},
   "source": [
    "## ASSESSOR DATA"
   ]
  },
  {
   "cell_type": "code",
   "execution_count": 7,
   "metadata": {},
   "outputs": [
    {
     "name": "stdout",
     "output_type": "stream",
     "text": [
      "(1086, 21)\n",
      "(1086, 21)\n"
     ]
    },
    {
     "data": {
      "text/html": [
       "<div>\n",
       "<style>\n",
       "    .dataframe thead tr:only-child th {\n",
       "        text-align: right;\n",
       "    }\n",
       "\n",
       "    .dataframe thead th {\n",
       "        text-align: left;\n",
       "    }\n",
       "\n",
       "    .dataframe tbody tr th {\n",
       "        vertical-align: top;\n",
       "    }\n",
       "</style>\n",
       "<table border=\"1\" class=\"dataframe\">\n",
       "  <thead>\n",
       "    <tr style=\"text-align: right;\">\n",
       "      <th></th>\n",
       "      <th>Label</th>\n",
       "      <th>epoch_1_batch_49_pred</th>\n",
       "      <th>epoch_1_batch_49_prob</th>\n",
       "      <th>epoch_1_batch_59_pred</th>\n",
       "      <th>epoch_1_batch_59_prob</th>\n",
       "      <th>epoch_1_batch_66_pred</th>\n",
       "      <th>epoch_1_batch_66_prob</th>\n",
       "      <th>epoch_2_batch_9_pred</th>\n",
       "      <th>epoch_2_batch_9_prob</th>\n",
       "      <th>epoch_2_batch_19_pred</th>\n",
       "      <th>...</th>\n",
       "      <th>epoch_2_batch_29_pred</th>\n",
       "      <th>epoch_2_batch_29_prob</th>\n",
       "      <th>epoch_2_batch_39_pred</th>\n",
       "      <th>epoch_2_batch_39_prob</th>\n",
       "      <th>epoch_2_batch_49_pred</th>\n",
       "      <th>epoch_2_batch_49_prob</th>\n",
       "      <th>epoch_2_batch_59_pred</th>\n",
       "      <th>epoch_2_batch_59_prob</th>\n",
       "      <th>epoch_2_batch_66_pred</th>\n",
       "      <th>epoch_2_batch_66_prob</th>\n",
       "    </tr>\n",
       "  </thead>\n",
       "  <tbody>\n",
       "    <tr>\n",
       "      <th>0</th>\n",
       "      <td>0.0</td>\n",
       "      <td>0.0</td>\n",
       "      <td>1.00000</td>\n",
       "      <td>0.0</td>\n",
       "      <td>1.000000</td>\n",
       "      <td>0.0</td>\n",
       "      <td>1.00000</td>\n",
       "      <td>0.0</td>\n",
       "      <td>1.000000</td>\n",
       "      <td>0.0</td>\n",
       "      <td>...</td>\n",
       "      <td>0.0</td>\n",
       "      <td>1.0</td>\n",
       "      <td>0.0</td>\n",
       "      <td>1.0</td>\n",
       "      <td>0.0</td>\n",
       "      <td>1.000000</td>\n",
       "      <td>0.0</td>\n",
       "      <td>1.000000</td>\n",
       "      <td>0.0</td>\n",
       "      <td>1.0</td>\n",
       "    </tr>\n",
       "    <tr>\n",
       "      <th>1</th>\n",
       "      <td>0.0</td>\n",
       "      <td>0.0</td>\n",
       "      <td>1.00000</td>\n",
       "      <td>0.0</td>\n",
       "      <td>1.000000</td>\n",
       "      <td>0.0</td>\n",
       "      <td>1.00000</td>\n",
       "      <td>0.0</td>\n",
       "      <td>1.000000</td>\n",
       "      <td>0.0</td>\n",
       "      <td>...</td>\n",
       "      <td>0.0</td>\n",
       "      <td>1.0</td>\n",
       "      <td>0.0</td>\n",
       "      <td>1.0</td>\n",
       "      <td>0.0</td>\n",
       "      <td>1.000000</td>\n",
       "      <td>0.0</td>\n",
       "      <td>1.000000</td>\n",
       "      <td>0.0</td>\n",
       "      <td>1.0</td>\n",
       "    </tr>\n",
       "    <tr>\n",
       "      <th>2</th>\n",
       "      <td>0.0</td>\n",
       "      <td>1.0</td>\n",
       "      <td>0.86196</td>\n",
       "      <td>1.0</td>\n",
       "      <td>0.999987</td>\n",
       "      <td>1.0</td>\n",
       "      <td>0.99902</td>\n",
       "      <td>1.0</td>\n",
       "      <td>0.999204</td>\n",
       "      <td>0.0</td>\n",
       "      <td>...</td>\n",
       "      <td>0.0</td>\n",
       "      <td>1.0</td>\n",
       "      <td>0.0</td>\n",
       "      <td>1.0</td>\n",
       "      <td>0.0</td>\n",
       "      <td>0.963619</td>\n",
       "      <td>1.0</td>\n",
       "      <td>0.999992</td>\n",
       "      <td>1.0</td>\n",
       "      <td>1.0</td>\n",
       "    </tr>\n",
       "  </tbody>\n",
       "</table>\n",
       "<p>3 rows × 21 columns</p>\n",
       "</div>"
      ],
      "text/plain": [
       "   Label  epoch_1_batch_49_pred  epoch_1_batch_49_prob  epoch_1_batch_59_pred  \\\n",
       "0    0.0                    0.0                1.00000                    0.0   \n",
       "1    0.0                    0.0                1.00000                    0.0   \n",
       "2    0.0                    1.0                0.86196                    1.0   \n",
       "\n",
       "   epoch_1_batch_59_prob  epoch_1_batch_66_pred  epoch_1_batch_66_prob  \\\n",
       "0               1.000000                    0.0                1.00000   \n",
       "1               1.000000                    0.0                1.00000   \n",
       "2               0.999987                    1.0                0.99902   \n",
       "\n",
       "   epoch_2_batch_9_pred  epoch_2_batch_9_prob  epoch_2_batch_19_pred  \\\n",
       "0                   0.0              1.000000                    0.0   \n",
       "1                   0.0              1.000000                    0.0   \n",
       "2                   1.0              0.999204                    0.0   \n",
       "\n",
       "           ...            epoch_2_batch_29_pred  epoch_2_batch_29_prob  \\\n",
       "0          ...                              0.0                    1.0   \n",
       "1          ...                              0.0                    1.0   \n",
       "2          ...                              0.0                    1.0   \n",
       "\n",
       "   epoch_2_batch_39_pred  epoch_2_batch_39_prob  epoch_2_batch_49_pred  \\\n",
       "0                    0.0                    1.0                    0.0   \n",
       "1                    0.0                    1.0                    0.0   \n",
       "2                    0.0                    1.0                    0.0   \n",
       "\n",
       "   epoch_2_batch_49_prob  epoch_2_batch_59_pred  epoch_2_batch_59_prob  \\\n",
       "0               1.000000                    0.0               1.000000   \n",
       "1               1.000000                    0.0               1.000000   \n",
       "2               0.963619                    1.0               0.999992   \n",
       "\n",
       "   epoch_2_batch_66_pred  epoch_2_batch_66_prob  \n",
       "0                    0.0                    1.0  \n",
       "1                    0.0                    1.0  \n",
       "2                    1.0                    1.0  \n",
       "\n",
       "[3 rows x 21 columns]"
      ]
     },
     "execution_count": 7,
     "metadata": {},
     "output_type": "execute_result"
    }
   ],
   "source": [
    "assessor_ts_data = pd.read_csv(assessor_ts_stats, index_col=None)\n",
    "assessor_cv_data = pd.read_csv(assessor_cv_stats, index_col=None)\n",
    "print (assessor_ts_data.shape)\n",
    "print (assessor_cv_data.shape)\n",
    "assessor_ts_data.head(3)"
   ]
  },
  {
   "cell_type": "markdown",
   "metadata": {},
   "source": [
    "# AVERAGE AERIAL AND OVERLAYED\n",
    "-------------"
   ]
  },
  {
   "cell_type": "markdown",
   "metadata": {},
   "source": [
    "#### TEST  (USING THE LAST EPOCH AND BATACH)"
   ]
  },
  {
   "cell_type": "code",
   "execution_count": 15,
   "metadata": {},
   "outputs": [
    {
     "data": {
      "text/html": [
       "<div>\n",
       "<style>\n",
       "    .dataframe thead tr:only-child th {\n",
       "        text-align: right;\n",
       "    }\n",
       "\n",
       "    .dataframe thead th {\n",
       "        text-align: left;\n",
       "    }\n",
       "\n",
       "    .dataframe tbody tr th {\n",
       "        vertical-align: top;\n",
       "    }\n",
       "</style>\n",
       "<table border=\"1\" class=\"dataframe\">\n",
       "  <thead>\n",
       "    <tr style=\"text-align: right;\">\n",
       "      <th></th>\n",
       "      <th>Label</th>\n",
       "      <th>epoch_2_batch_66_pred</th>\n",
       "      <th>epoch_2_batch_66_prob</th>\n",
       "    </tr>\n",
       "  </thead>\n",
       "  <tbody>\n",
       "    <tr>\n",
       "      <th>0</th>\n",
       "      <td>0.0</td>\n",
       "      <td>0.0</td>\n",
       "      <td>1.000000</td>\n",
       "    </tr>\n",
       "    <tr>\n",
       "      <th>1</th>\n",
       "      <td>0.0</td>\n",
       "      <td>1.0</td>\n",
       "      <td>1.000000</td>\n",
       "    </tr>\n",
       "    <tr>\n",
       "      <th>2</th>\n",
       "      <td>0.0</td>\n",
       "      <td>0.0</td>\n",
       "      <td>1.000000</td>\n",
       "    </tr>\n",
       "    <tr>\n",
       "      <th>3</th>\n",
       "      <td>0.0</td>\n",
       "      <td>0.0</td>\n",
       "      <td>1.000000</td>\n",
       "    </tr>\n",
       "    <tr>\n",
       "      <th>4</th>\n",
       "      <td>0.0</td>\n",
       "      <td>1.0</td>\n",
       "      <td>0.999999</td>\n",
       "    </tr>\n",
       "  </tbody>\n",
       "</table>\n",
       "</div>"
      ],
      "text/plain": [
       "   Label  epoch_2_batch_66_pred  epoch_2_batch_66_prob\n",
       "0    0.0                    0.0               1.000000\n",
       "1    0.0                    1.0               1.000000\n",
       "2    0.0                    0.0               1.000000\n",
       "3    0.0                    0.0               1.000000\n",
       "4    0.0                    1.0               0.999999"
      ]
     },
     "execution_count": 15,
     "metadata": {},
     "output_type": "execute_result"
    }
   ],
   "source": [
    "overlayed_ts_data[['Label', 'epoch_2_batch_66_pred', 'epoch_2_batch_66_prob']].head()"
   ]
  },
  {
   "cell_type": "code",
   "execution_count": 44,
   "metadata": {},
   "outputs": [],
   "source": [
    "overlayed_model_pred_prob = np.array(overlayed_ts_data[['epoch_2_batch_66_pred', 'epoch_2_batch_66_prob']])\n",
    "\n",
    "prob_score_1 = []\n",
    "prob_score_0 = []\n",
    "for pred, prob in overlayed_model_pred_prob:\n",
    "    if pred == 1:\n",
    "        prob_score_1.append(prob)\n",
    "        prob_score_0.append(1-prob)\n",
    "    elif pred == 0:\n",
    "        prob_score_1.append(1-prob)\n",
    "        prob_score_0.append(prob)\n",
    "\n",
    "if len(prob_score_1) != len(prob_score_0): raise ValueError ('Oops the count should match')"
   ]
  },
  {
   "cell_type": "code",
   "execution_count": 45,
   "metadata": {},
   "outputs": [
    {
     "name": "stdout",
     "output_type": "stream",
     "text": [
      "(1086, 3)\n"
     ]
    },
    {
     "name": "stderr",
     "output_type": "stream",
     "text": [
      "/Users/sam/App-Setup/anaconda/envs/anaconda35/lib/python3.5/site-packages/ipykernel_launcher.py:1: FutureWarning: reshape is deprecated and will raise in a subsequent release. Please use .values.reshape(...) instead\n",
      "  \"\"\"Entry point for launching an IPython kernel.\n"
     ]
    },
    {
     "data": {
      "text/html": [
       "<div>\n",
       "<style>\n",
       "    .dataframe thead tr:only-child th {\n",
       "        text-align: right;\n",
       "    }\n",
       "\n",
       "    .dataframe thead th {\n",
       "        text-align: left;\n",
       "    }\n",
       "\n",
       "    .dataframe tbody tr th {\n",
       "        vertical-align: top;\n",
       "    }\n",
       "</style>\n",
       "<table border=\"1\" class=\"dataframe\">\n",
       "  <thead>\n",
       "    <tr style=\"text-align: right;\">\n",
       "      <th></th>\n",
       "      <th>Labels</th>\n",
       "      <th>ol_pred_0_prob</th>\n",
       "      <th>ol_pred_1_prob</th>\n",
       "    </tr>\n",
       "  </thead>\n",
       "  <tbody>\n",
       "    <tr>\n",
       "      <th>0</th>\n",
       "      <td>0.0</td>\n",
       "      <td>1.000000e+00</td>\n",
       "      <td>0.0</td>\n",
       "    </tr>\n",
       "    <tr>\n",
       "      <th>1</th>\n",
       "      <td>0.0</td>\n",
       "      <td>1.192093e-07</td>\n",
       "      <td>1.0</td>\n",
       "    </tr>\n",
       "  </tbody>\n",
       "</table>\n",
       "</div>"
      ],
      "text/plain": [
       "   Labels  ol_pred_0_prob  ol_pred_1_prob\n",
       "0     0.0    1.000000e+00             0.0\n",
       "1     0.0    1.192093e-07             1.0"
      ]
     },
     "execution_count": 45,
     "metadata": {},
     "output_type": "execute_result"
    }
   ],
   "source": [
    "overlayed_pred_probs = pd.DataFrame(np.column_stack((np.array(overlayed_ts_data['Label'].reshape(-1,1)),\n",
    "                                                  np.array(prob_score_0).reshape(-1,1),\n",
    "                                                  np.array([prob_score_1]).reshape(-1,1))), \n",
    "                                 columns=['Labels', 'ol_pred_0_prob', 'ol_pred_1_prob'])\n",
    "print (overlayed_pred_probs.shape)\n",
    "overlayed_pred_probs.head(2)"
   ]
  },
  {
   "cell_type": "code",
   "execution_count": 46,
   "metadata": {},
   "outputs": [],
   "source": [
    "aerial_model_pred_prob = np.array(aerial_ts_data[['epoch_2_batch_66_pred', 'epoch_2_batch_66_prob']])\n",
    "\n",
    "prob_score_1 = []\n",
    "prob_score_0 = []\n",
    "for pred, prob in aerial_model_pred_prob:\n",
    "    if pred == 1:\n",
    "        prob_score_1.append(prob)\n",
    "        prob_score_0.append(1-prob)\n",
    "    elif pred == 0:\n",
    "        prob_score_1.append(1-prob)\n",
    "        prob_score_0.append(prob)\n",
    "\n",
    "if len(prob_score_1) != len(prob_score_0): raise ValueError ('Oops the count should match')"
   ]
  },
  {
   "cell_type": "code",
   "execution_count": 47,
   "metadata": {},
   "outputs": [
    {
     "name": "stdout",
     "output_type": "stream",
     "text": [
      "(1086, 3)\n"
     ]
    },
    {
     "name": "stderr",
     "output_type": "stream",
     "text": [
      "/Users/sam/App-Setup/anaconda/envs/anaconda35/lib/python3.5/site-packages/ipykernel_launcher.py:1: FutureWarning: reshape is deprecated and will raise in a subsequent release. Please use .values.reshape(...) instead\n",
      "  \"\"\"Entry point for launching an IPython kernel.\n"
     ]
    },
    {
     "data": {
      "text/html": [
       "<div>\n",
       "<style>\n",
       "    .dataframe thead tr:only-child th {\n",
       "        text-align: right;\n",
       "    }\n",
       "\n",
       "    .dataframe thead th {\n",
       "        text-align: left;\n",
       "    }\n",
       "\n",
       "    .dataframe tbody tr th {\n",
       "        vertical-align: top;\n",
       "    }\n",
       "</style>\n",
       "<table border=\"1\" class=\"dataframe\">\n",
       "  <thead>\n",
       "    <tr style=\"text-align: right;\">\n",
       "      <th></th>\n",
       "      <th>Labels</th>\n",
       "      <th>ar_pred_0_prob</th>\n",
       "      <th>ar_pred_1_prob</th>\n",
       "    </tr>\n",
       "  </thead>\n",
       "  <tbody>\n",
       "    <tr>\n",
       "      <th>0</th>\n",
       "      <td>0.0</td>\n",
       "      <td>0.999965</td>\n",
       "      <td>0.000035</td>\n",
       "    </tr>\n",
       "    <tr>\n",
       "      <th>1</th>\n",
       "      <td>0.0</td>\n",
       "      <td>0.999765</td>\n",
       "      <td>0.000235</td>\n",
       "    </tr>\n",
       "  </tbody>\n",
       "</table>\n",
       "</div>"
      ],
      "text/plain": [
       "   Labels  ar_pred_0_prob  ar_pred_1_prob\n",
       "0     0.0        0.999965        0.000035\n",
       "1     0.0        0.999765        0.000235"
      ]
     },
     "execution_count": 47,
     "metadata": {},
     "output_type": "execute_result"
    }
   ],
   "source": [
    "aerial_pred_probs = pd.DataFrame(np.column_stack((np.array(aerial_ts_data['Label'].reshape(-1,1)),\n",
    "                                                  np.array(prob_score_0).reshape(-1,1),\n",
    "                                                  np.array([prob_score_1]).reshape(-1,1))), \n",
    "                                 columns=['Labels', 'ar_pred_0_prob', 'ar_pred_1_prob'])\n",
    "print (aerial_pred_probs.shape)\n",
    "aerial_pred_probs.head(2)"
   ]
  },
  {
   "cell_type": "code",
   "execution_count": 59,
   "metadata": {},
   "outputs": [
    {
     "data": {
      "text/plain": [
       "array([[  9.99982595e-01,   1.74045563e-05],\n",
       "       [  4.99882668e-01,   5.00117332e-01],\n",
       "       [  1.00000000e+00,   0.00000000e+00],\n",
       "       [  1.00000000e+00,   0.00000000e+00],\n",
       "       [  5.36441803e-07,   9.99999464e-01],\n",
       "       [  9.99492675e-01,   5.07324934e-04],\n",
       "       [  5.00099212e-01,   4.99900788e-01],\n",
       "       [  9.99981940e-01,   1.80602074e-05],\n",
       "       [  1.00000000e+00,   0.00000000e+00],\n",
       "       [  4.99996424e-01,   5.00003576e-01]])"
      ]
     },
     "execution_count": 59,
     "metadata": {},
     "output_type": "execute_result"
    }
   ],
   "source": [
    "pred_0 = (np.array(overlayed_pred_probs['ol_pred_0_prob'], dtype=float) + np.array(aerial_pred_probs['ar_pred_0_prob'], dtype=float)) / 2\n",
    "pred_1 = (np.array(overlayed_pred_probs['ol_pred_1_prob'], dtype=float) + np.array(aerial_pred_probs['ar_pred_1_prob'], dtype=float)) / 2\n",
    "avg_pred = np.column_stack((pred_0, pred_1))\n",
    "avg_pred[0:10]"
   ]
  },
  {
   "cell_type": "code",
   "execution_count": 74,
   "metadata": {},
   "outputs": [
    {
     "data": {
      "text/plain": [
       "Index(['Labels', 'ol_pred_0_prob', 'ol_pred_1_prob'], dtype='object')"
      ]
     },
     "execution_count": 74,
     "metadata": {},
     "output_type": "execute_result"
    }
   ],
   "source": [
    "overlayed_pred_probs.columns"
   ]
  },
  {
   "cell_type": "code",
   "execution_count": 75,
   "metadata": {},
   "outputs": [
    {
     "data": {
      "text/plain": [
       "0.88581952117863716"
      ]
     },
     "execution_count": 75,
     "metadata": {},
     "output_type": "execute_result"
    }
   ],
   "source": [
    "metrics.accuracy_score(np.array(overlayed_pred_probs['Labels']), np.array(overlayed_ts_data['epoch_2_batch_66_pred']))"
   ]
  },
  {
   "cell_type": "code",
   "execution_count": 70,
   "metadata": {},
   "outputs": [
    {
     "data": {
      "text/plain": [
       "0.86648250460405152"
      ]
     },
     "execution_count": 70,
     "metadata": {},
     "output_type": "execute_result"
    }
   ],
   "source": [
    "metrics.accuracy_score(np.array(aerial_pred_probs['Labels']), np.argmax(avg_pred, axis=1))"
   ]
  },
  {
   "cell_type": "code",
   "execution_count": 68,
   "metadata": {},
   "outputs": [
    {
     "data": {
      "text/plain": [
       "0.93223914504051208"
      ]
     },
     "execution_count": 68,
     "metadata": {},
     "output_type": "execute_result"
    }
   ],
   "source": [
    "from sklearn import metrics\n",
    "metrics.auc(np.array(aerial_pred_probs['Labels']), np.amax(avg_pred, axis=1))"
   ]
  }
 ],
 "metadata": {
  "kernelspec": {
   "display_name": "Python 3",
   "language": "python",
   "name": "python3"
  },
  "language_info": {
   "codemirror_mode": {
    "name": "ipython",
    "version": 3
   },
   "file_extension": ".py",
   "mimetype": "text/x-python",
   "name": "python",
   "nbconvert_exporter": "python",
   "pygments_lexer": "ipython3",
   "version": "3.5.4"
  }
 },
 "nbformat": 4,
 "nbformat_minor": 2
}
